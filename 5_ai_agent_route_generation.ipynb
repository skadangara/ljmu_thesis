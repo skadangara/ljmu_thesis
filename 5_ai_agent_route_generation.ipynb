{
 "cells": [
  {
   "cell_type": "code",
   "id": "initial_id",
   "metadata": {
    "collapsed": true,
    "ExecuteTime": {
     "end_time": "2025-10-03T21:09:54.975298Z",
     "start_time": "2025-10-03T21:09:54.972531Z"
    }
   },
   "source": [
    "import os\n",
    "from openai import OpenAI\n",
    "from dotenv import load_dotenv\n",
    "import pandas as pd\n",
    "import json"
   ],
   "outputs": [],
   "execution_count": 7
  },
  {
   "metadata": {
    "ExecuteTime": {
     "end_time": "2025-10-03T21:09:56.464732Z",
     "start_time": "2025-10-03T21:09:56.450081Z"
    }
   },
   "cell_type": "code",
   "source": [
    "# Load .env for API keys, etc.\n",
    "load_dotenv()\n",
    "client = OpenAI()"
   ],
   "id": "b2e9a0993b28c9c3",
   "outputs": [],
   "execution_count": 8
  },
  {
   "metadata": {
    "ExecuteTime": {
     "end_time": "2025-10-04T09:15:42.617813Z",
     "start_time": "2025-10-04T09:15:42.613505Z"
    }
   },
   "cell_type": "code",
   "source": [
    "def get_enriched_prompt(predicted_info, max_distance, max_emission, max_emission_grams, predicted_mode):\n",
    "    template = f\"\"\"\n",
    "You are a sustainability logistics planner. Based on the predicted route information below, generate a full multi-segment route that:\n",
    "\n",
    "- Stays within a total distance of {max_distance} km.\n",
    "- Stays under a total CO₂ emission of {max_emission} kg (i.e., {max_emission_grams} grams).\n",
    "- Primarily uses the predicted mode: {predicted_mode}, but you may use other modes to optimize for emissions or realism.\n",
    "- If predicted mode is 'Medium Truck', choose sustainable alternatives: Cargo Train, Container Ship, Electric Van.\n",
    "- Choose realistic transport paths (city-to-city freight rail, ports, road access).\n",
    "- Prefer sustainable alternatives: Cargo Train, Container Ship, Electric Van.\n",
    "- Limit to maximum 3 hopes\n",
    "\n",
    "Emission rates:\n",
    "- Air Freight: 600 g/km\n",
    "- Container Ship: 10 g/km\n",
    "- Cargo Train: 50 g/km\n",
    "- Heavy Truck: 500 g/km\n",
    "- Medium Truck: 300 g/km\n",
    "- Small Van: 180 g/km\n",
    "- Electric Van: 40 g/km\n",
    "\n",
    "Each segment must include: `from`, `to`, `country`, `mode`, `vehicle`, `distance_km`, `emission_g`\n",
    "\n",
    "Output JSON:\n",
    "{{\n",
    "  \"route\": [{{...}}],\n",
    "  \"total_distance_km\": int,\n",
    "  \"total_emission_g\": int\n",
    "}}\n",
    "\n",
    "### Predicted Info:\n",
    "{predicted_info}\n",
    "\"\"\"\n",
    "    return template"
   ],
   "id": "b979d8c020ab4e0d",
   "outputs": [],
   "execution_count": 147
  },
  {
   "metadata": {
    "ExecuteTime": {
     "end_time": "2025-10-04T09:15:46.366291Z",
     "start_time": "2025-10-04T09:15:46.361311Z"
    }
   },
   "cell_type": "code",
   "source": [
    "from pydantic import BaseModel\n",
    "\n",
    "class Route(BaseModel):\n",
    "    start_from: str\n",
    "    to: str\n",
    "    country: str\n",
    "    mode: str\n",
    "    vehicle: str\n",
    "    distance_km: int\n",
    "    emission_g: int\n",
    "\n",
    "class Routes(BaseModel):\n",
    "    routes: list[Route]\n"
   ],
   "id": "82c76373258c2a8e",
   "outputs": [],
   "execution_count": 148
  },
  {
   "metadata": {
    "ExecuteTime": {
     "end_time": "2025-10-04T09:15:48.893741Z",
     "start_time": "2025-10-04T09:15:48.887029Z"
    }
   },
   "cell_type": "code",
   "source": [
    "def generate_route(predicted_info, model=\"gpt-4o\", temperature=0.7, n=3):\n",
    "    routes = []\n",
    "    # predicted_info=json.dumps(predicted_info, indent=2)\n",
    "    max_distance=predicted_info[\"distance\"]\n",
    "    max_emission=predicted_info[\"emission\"]\n",
    "    max_emission_grams=int(float(predicted_info[\"emission\"]) * 1000)\n",
    "    predicted_mode=predicted_info[\"transportation_mode\"]\n",
    "    enriched_prompt = get_enriched_prompt(predicted_info, max_distance, max_emission, max_emission_grams, predicted_mode)\n",
    "    for _ in range(n):\n",
    "        response = client.chat.completions.parse(\n",
    "            model=model,\n",
    "            messages=[\n",
    "                {\"role\": \"system\", \"content\": \"You are a helpful sustainability logistics planner.\"},\n",
    "                {\"role\": \"user\", \"content\": enriched_prompt}\n",
    "            ],\n",
    "            response_format=Routes,\n",
    "            temperature=temperature,\n",
    "        )\n",
    "        try:\n",
    "            #route_data = json.loads(response)\n",
    "            result = response.choices[0].message.content\n",
    "            routes.append(result)\n",
    "        except Exception as e:\n",
    "            print(f\"⚠️ Failed to parse JSON: {e}\")\n",
    "    return routes"
   ],
   "id": "e0c4c4e64d2109d9",
   "outputs": [],
   "execution_count": 149
  },
  {
   "metadata": {
    "ExecuteTime": {
     "end_time": "2025-10-04T10:13:02.796564Z",
     "start_time": "2025-10-04T10:12:56.949308Z"
    }
   },
   "cell_type": "code",
   "source": "",
   "id": "f7337d29b6fc5f70",
   "outputs": [],
   "execution_count": 166
  },
  {
   "metadata": {
    "ExecuteTime": {
     "end_time": "2025-10-04T14:54:09.922057Z",
     "start_time": "2025-10-04T14:54:09.920104Z"
    }
   },
   "cell_type": "code",
   "source": [
    "\n",
    "def parse_routes(raw_outputs):\n",
    "    parsed_routes = []\n",
    "    for raw in raw_outputs:\n",
    "        data = json.loads(raw)\n",
    "        segments = data[\"routes\"]\n",
    "        total_distance = sum(seg[\"distance_km\"] for seg in segments)\n",
    "        total_emission = sum(seg[\"emission_g\"] for seg in segments)\n",
    "        parsed_routes.append({\n",
    "            \"route\": segments,\n",
    "            \"total_distance_km\": total_distance,\n",
    "            \"total_emission_g\": total_emission\n",
    "        })\n",
    "    return parsed_routes"
   ],
   "id": "d34a42462e468d38",
   "outputs": [],
   "execution_count": 1
  },
  {
   "metadata": {
    "ExecuteTime": {
     "end_time": "2025-10-04T10:13:10.007906Z",
     "start_time": "2025-10-04T10:13:10.001911Z"
    }
   },
   "cell_type": "code",
   "source": [
    "def validate_route(route, max_distance_km, max_emission_kg):\n",
    "    total_distance = route[\"total_distance_km\"]\n",
    "    total_emission_kg = route[\"total_emission_g\"] / 1000  # convert from g to kg\n",
    "\n",
    "    return {\n",
    "        \"total_distance\": total_distance,\n",
    "        \"total_emission\": total_emission_kg,\n",
    "        \"distance_valid\": total_distance <= max_distance_km,\n",
    "        \"emission_valid\": total_emission_kg <= max_emission_kg,\n",
    "        \"status\": \"valid\" if total_distance <= max_distance_km and total_emission_kg <= max_emission_kg else \"invalid\"\n",
    "    }\n"
   ],
   "id": "181226263d76d030",
   "outputs": [],
   "execution_count": 168
  },
  {
   "metadata": {
    "ExecuteTime": {
     "end_time": "2025-10-04T10:13:13.178302Z",
     "start_time": "2025-10-04T10:13:13.169660Z"
    }
   },
   "cell_type": "code",
   "source": [
    "def export_routes_summary_to_excel(routes, predicted_info):\n",
    "    predicted_max_distance_km = int(predicted_info[\"distance\"])\n",
    "    predicted_max_emission_kg = float(predicted_info[\"emission\"])\n",
    "\n",
    "    summary_rows = []\n",
    "\n",
    "    for i, route in enumerate(routes, 1):\n",
    "\n",
    "        # Extract source and destination from first and last segments\n",
    "        source_city = route[\"route\"][0][\"start_from\"]\n",
    "        destination_city = route[\"route\"][-1][\"to\"]\n",
    "        validation = validate_route(route, predicted_max_distance_km, predicted_max_emission_kg)\n",
    "\n",
    "        # Optional: compact string version of segments\n",
    "        segment_strings = []\n",
    "        for seg in route[\"route\"]:\n",
    "            segment_strings.append(\n",
    "                f\"{seg['start_from']}→{seg['to']} ({seg['mode']}, {seg['distance_km']} km, {round(seg['emission_g']/1000,2)} kg)\"\n",
    "            )\n",
    "        route_summary = \" | \".join(segment_strings)\n",
    "\n",
    "        summary_rows.append({\n",
    "            \"Route #\": i,\n",
    "            \"Source\": source_city,\n",
    "            \"Destination\": destination_city,\n",
    "            \"Predicted Distance (km)\": route[\"total_distance_km\"],\n",
    "            \"Predicted Emission (kg CO₂)\": round(route[\"total_emission_g\"] / 1000, 2),\n",
    "            \"Real Distance (km)\": validation[\"total_distance\"],\n",
    "            \"Real Emission (kg CO₂)\": validation[\"total_emission\"],\n",
    "            \"Distance Valid\": validation[\"distance_valid\"],\n",
    "            \"Emission Valid\": validation[\"emission_valid\"],\n",
    "            \"Overall Status\": validation[\"status\"],\n",
    "            \"Route Summary\": route_summary\n",
    "        })\n",
    "\n",
    "    df = pd.DataFrame(summary_rows)\n",
    "    return df\n"
   ],
   "id": "2c7c3ad245d3c2d2",
   "outputs": [],
   "execution_count": 169
  },
  {
   "metadata": {
    "ExecuteTime": {
     "end_time": "2025-10-04T14:54:28.713644Z",
     "start_time": "2025-10-04T14:54:28.709120Z"
    }
   },
   "cell_type": "code",
   "source": [
    "import ast\n",
    "\n",
    "\n",
    "def generate_full_routes(row):\n",
    "\n",
    "    predicted_info = {}\n",
    "    predicted_info[\"source\"] = row['source']\n",
    "    predicted_info[\"source_country\"] = row['source_country']\n",
    "    predicted_info[\"destination\"] = row['destination']\n",
    "    predicted_info[\"destination_country\"] = row['destination_country']\n",
    "    vae_output = row['vae_output']\n",
    "\n",
    "    d = ast.literal_eval(vae_output)\n",
    "    predicted_info[\"distance\"] = d['distance']\n",
    "    predicted_info[\"emission\"] = d['emission']\n",
    "    predicted_info[\"transportation_mode\"] = d['mode']\n",
    "\n",
    "\n",
    "    generate_route(predicted_info, model=\"gpt-4o\", temperature=0.7, n=3)\n",
    "    candidate_routes = generate_route(predicted_info, n=3)\n",
    "    parsed_routes = parse_routes(candidate_routes)\n",
    "    # Rank by emission\n",
    "    top_routes = sorted(parsed_routes, key=lambda r: r[\"total_emission_g\"])[:3]\n",
    "    generated_routes_df = export_routes_summary_to_excel(\n",
    "        routes=top_routes,\n",
    "        predicted_info=predicted_info\n",
    "    )\n",
    "    return generated_routes_df"
   ],
   "id": "959032538fb1c43c",
   "outputs": [],
   "execution_count": 2
  },
  {
   "metadata": {},
   "cell_type": "code",
   "outputs": [],
   "execution_count": null,
   "source": [
    "df_list = []\n",
    "test_df = pd.read_excel(\"results/vae_outputs/test_result_VAE_output.xlsx\")\n",
    "sub_df = test_df.apply(lambda x: generate_full_routes(x), axis=1)\n",
    "df_list.append(sub_df)\n",
    "df = pd.concat(df_list, ignore_index=True)\n",
    "df.to_excel(\"results/generated_routes/test_set_generated_routes.xlsx\", index=False)"
   ],
   "id": "f36c6b308f6df2d7"
  }
 ],
 "metadata": {
  "kernelspec": {
   "display_name": "Python 3",
   "language": "python",
   "name": "python3"
  },
  "language_info": {
   "codemirror_mode": {
    "name": "ipython",
    "version": 2
   },
   "file_extension": ".py",
   "mimetype": "text/x-python",
   "name": "python",
   "nbconvert_exporter": "python",
   "pygments_lexer": "ipython2",
   "version": "2.7.6"
  }
 },
 "nbformat": 4,
 "nbformat_minor": 5
}
