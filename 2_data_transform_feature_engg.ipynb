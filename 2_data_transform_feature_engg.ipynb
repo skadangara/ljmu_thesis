{
 "cells": [
  {
   "cell_type": "code",
   "id": "initial_id",
   "metadata": {
    "collapsed": true,
    "ExecuteTime": {
     "end_time": "2025-09-23T12:28:13.743104Z",
     "start_time": "2025-09-23T12:28:12.707726Z"
    }
   },
   "source": [
    "import pandas as pd\n",
    "import numpy as np\n",
    "from geopy.distance import geodesic"
   ],
   "outputs": [
    {
     "name": "stderr",
     "output_type": "stream",
     "text": [
      "/Users/sajanakadangara/code_base/ljmu_research/.venv/lib/python3.9/site-packages/urllib3/__init__.py:35: NotOpenSSLWarning: urllib3 v2 only supports OpenSSL 1.1.1+, currently the 'ssl' module is compiled with 'LibreSSL 2.8.3'. See: https://github.com/urllib3/urllib3/issues/3020\n",
      "  warnings.warn(\n"
     ]
    }
   ],
   "execution_count": 1
  },
  {
   "metadata": {
    "ExecuteTime": {
     "end_time": "2025-09-24T07:25:11.833465Z",
     "start_time": "2025-09-24T07:24:54.609715Z"
    }
   },
   "cell_type": "code",
   "source": "df = pd.read_excel(\"data/final_data.xlsx\")",
   "id": "3acd159c0b0d6aed",
   "outputs": [],
   "execution_count": 5
  },
  {
   "metadata": {
    "ExecuteTime": {
     "end_time": "2025-09-24T07:25:23.892886Z",
     "start_time": "2025-09-24T07:25:23.881638Z"
    }
   },
   "cell_type": "code",
   "source": "df.head()",
   "id": "76ccbbd586aa8e5b",
   "outputs": [
    {
     "data": {
      "text/plain": [
       "   source source_country  source_latitude  source_longitude destination  \\\n",
       "0  Caguas    Puerto Rico        18.359064        -66.370575       Viena   \n",
       "1  Caguas    Puerto Rico        18.359064        -66.370575       Viena   \n",
       "2  Caguas    Puerto Rico        18.359064        -66.370575       Viena   \n",
       "3  Caguas    Puerto Rico        18.359064        -66.370575       Viena   \n",
       "4  Caguas    Puerto Rico        18.359064        -66.370575       Viena   \n",
       "\n",
       "    shipping_mode  dest_lat  dest_lon destination_country  \n",
       "0  Standard Class   48.2082   16.3738             Austria  \n",
       "1  Standard Class   48.2082   16.3738             Austria  \n",
       "2  Standard Class   48.2082   16.3738             Austria  \n",
       "3  Standard Class   48.2082   16.3738             Austria  \n",
       "4  Standard Class   48.2082   16.3738             Austria  "
      ],
      "text/html": [
       "<div>\n",
       "<style scoped>\n",
       "    .dataframe tbody tr th:only-of-type {\n",
       "        vertical-align: middle;\n",
       "    }\n",
       "\n",
       "    .dataframe tbody tr th {\n",
       "        vertical-align: top;\n",
       "    }\n",
       "\n",
       "    .dataframe thead th {\n",
       "        text-align: right;\n",
       "    }\n",
       "</style>\n",
       "<table border=\"1\" class=\"dataframe\">\n",
       "  <thead>\n",
       "    <tr style=\"text-align: right;\">\n",
       "      <th></th>\n",
       "      <th>source</th>\n",
       "      <th>source_country</th>\n",
       "      <th>source_latitude</th>\n",
       "      <th>source_longitude</th>\n",
       "      <th>destination</th>\n",
       "      <th>shipping_mode</th>\n",
       "      <th>dest_lat</th>\n",
       "      <th>dest_lon</th>\n",
       "      <th>destination_country</th>\n",
       "    </tr>\n",
       "  </thead>\n",
       "  <tbody>\n",
       "    <tr>\n",
       "      <th>0</th>\n",
       "      <td>Caguas</td>\n",
       "      <td>Puerto Rico</td>\n",
       "      <td>18.359064</td>\n",
       "      <td>-66.370575</td>\n",
       "      <td>Viena</td>\n",
       "      <td>Standard Class</td>\n",
       "      <td>48.2082</td>\n",
       "      <td>16.3738</td>\n",
       "      <td>Austria</td>\n",
       "    </tr>\n",
       "    <tr>\n",
       "      <th>1</th>\n",
       "      <td>Caguas</td>\n",
       "      <td>Puerto Rico</td>\n",
       "      <td>18.359064</td>\n",
       "      <td>-66.370575</td>\n",
       "      <td>Viena</td>\n",
       "      <td>Standard Class</td>\n",
       "      <td>48.2082</td>\n",
       "      <td>16.3738</td>\n",
       "      <td>Austria</td>\n",
       "    </tr>\n",
       "    <tr>\n",
       "      <th>2</th>\n",
       "      <td>Caguas</td>\n",
       "      <td>Puerto Rico</td>\n",
       "      <td>18.359064</td>\n",
       "      <td>-66.370575</td>\n",
       "      <td>Viena</td>\n",
       "      <td>Standard Class</td>\n",
       "      <td>48.2082</td>\n",
       "      <td>16.3738</td>\n",
       "      <td>Austria</td>\n",
       "    </tr>\n",
       "    <tr>\n",
       "      <th>3</th>\n",
       "      <td>Caguas</td>\n",
       "      <td>Puerto Rico</td>\n",
       "      <td>18.359064</td>\n",
       "      <td>-66.370575</td>\n",
       "      <td>Viena</td>\n",
       "      <td>Standard Class</td>\n",
       "      <td>48.2082</td>\n",
       "      <td>16.3738</td>\n",
       "      <td>Austria</td>\n",
       "    </tr>\n",
       "    <tr>\n",
       "      <th>4</th>\n",
       "      <td>Caguas</td>\n",
       "      <td>Puerto Rico</td>\n",
       "      <td>18.359064</td>\n",
       "      <td>-66.370575</td>\n",
       "      <td>Viena</td>\n",
       "      <td>Standard Class</td>\n",
       "      <td>48.2082</td>\n",
       "      <td>16.3738</td>\n",
       "      <td>Austria</td>\n",
       "    </tr>\n",
       "  </tbody>\n",
       "</table>\n",
       "</div>"
      ]
     },
     "execution_count": 6,
     "metadata": {},
     "output_type": "execute_result"
    }
   ],
   "execution_count": 6
  },
  {
   "metadata": {
    "ExecuteTime": {
     "end_time": "2025-09-23T12:28:40.974813Z",
     "start_time": "2025-09-23T12:28:40.919394Z"
    }
   },
   "cell_type": "code",
   "source": "df.info()",
   "id": "ff83587ac7358484",
   "outputs": [
    {
     "name": "stdout",
     "output_type": "stream",
     "text": [
      "<class 'pandas.core.frame.DataFrame'>\n",
      "RangeIndex: 482777 entries, 0 to 482776\n",
      "Data columns (total 9 columns):\n",
      " #   Column            Non-Null Count   Dtype  \n",
      "---  ------            --------------   -----  \n",
      " 0   source_city       482777 non-null  object \n",
      " 1   source_country    482777 non-null  object \n",
      " 2   source_latitude   482777 non-null  float64\n",
      " 3   source_longitude  482777 non-null  float64\n",
      " 4   dest_city         482777 non-null  object \n",
      " 5   shipping_mode     482777 non-null  object \n",
      " 6   dest_lat          482777 non-null  float64\n",
      " 7   dest_lon          482777 non-null  float64\n",
      " 8   dest_country      482777 non-null  object \n",
      "dtypes: float64(4), object(5)\n",
      "memory usage: 33.1+ MB\n"
     ]
    }
   ],
   "execution_count": 4
  },
  {
   "metadata": {},
   "cell_type": "code",
   "outputs": [],
   "execution_count": null,
   "source": [
    "df['source_country'] = df['source_country'].apply(lambda x: x.lower())\n",
    "df['destination_country'] = df['destination_country'].apply(lambda x: x.lower())\n",
    "\n",
    "df['source'] = df['source'].apply(lambda x: x.lower())\n",
    "df['destination'] = df['destination'].apply(lambda x: x.lower())"
   ],
   "id": "5d9c51529e17961"
  },
  {
   "metadata": {},
   "cell_type": "code",
   "outputs": [],
   "execution_count": null,
   "source": [
    "# Helper function to compute distance and assign modes/vehicles\n",
    "def assign_transport(row):\n",
    "    origin = (row['source_latitude'], row['source_longitude'])\n",
    "    dest = (row['dest_lat'], row['dest_lon'])\n",
    "    distance_km = geodesic(origin, dest).km\n",
    "    shipping_mode = row['shipping_mode']\n",
    "    same_country = row['source_country'] == row['destination_country']\n",
    "\n",
    "    # Logic to assign transport category and transportation mode\n",
    "    # Emission rate = grams CO2 per km\n",
    "    # Electric Van estimated at 40 g/km (average grid electricity emissions)\n",
    "    if not same_country:\n",
    "        if shipping_mode in [\"Same Day\", \"First Class\"]:\n",
    "            transport_category = \"Air\"\n",
    "            transport_mode = \"Air Freight\"\n",
    "            emission_rate = 600\n",
    "        else:\n",
    "            transport_category = \"Sea\"\n",
    "            transport_mode = \"Container Ship\"\n",
    "            emission_rate = 10\n",
    "    elif shipping_mode == \"Same Day\" and distance_km > 1000:\n",
    "        transport_category = \"Air\"\n",
    "        transport_mode = \"Air Freight\"\n",
    "        emission_rate = 600\n",
    "    elif distance_km > 1000:\n",
    "        transport_category = \"Rail\"\n",
    "        transport_mode = \"Cargo Train\"\n",
    "        emission_rate = 50\n",
    "    elif distance_km > 500:\n",
    "        transport_category = \"Road\"\n",
    "        transport_mode = \"Heavy Truck\"\n",
    "        emission_rate = 500\n",
    "    elif distance_km > 100:\n",
    "        transport_category = \"Road\"\n",
    "        transport_mode = \"Medium Truck\"\n",
    "        emission_rate = 300\n",
    "    elif shipping_mode in [\"Same Day\", \"First Class\"]:\n",
    "        transport_category = \"Road\"\n",
    "        transport_mode = \"Small Van\"\n",
    "        emission_rate = 180\n",
    "    else:\n",
    "        transport_category = \"Road\"\n",
    "        transport_mode = \"Electric Van\"\n",
    "        emission_rate = 40  # # realistic grid-powered emissions\n",
    "\n",
    "    emission_kg = distance_km * emission_rate / 1000\n",
    "\n",
    "    return pd.Series([distance_km, transport_category, transport_mode, emission_kg])"
   ],
   "id": "238528d0514bf8fb"
  },
  {
   "metadata": {},
   "cell_type": "code",
   "outputs": [],
   "execution_count": null,
   "source": [
    "# calculate 4 new variables using the above helper function\n",
    "# distance, transport mode, vehicle type and emission\n",
    "df[['distance', 'transport_category', 'transportation_mode', 'emission']] = df.apply(assign_transport, axis=1)"
   ],
   "id": "aea1dab58bf291d2"
  },
  {
   "metadata": {},
   "cell_type": "code",
   "outputs": [],
   "execution_count": null,
   "source": [
    "# export data with all variables for detailed EDA\n",
    "df.to_excel(\"data/input_data.xlsx\",index=False)"
   ],
   "id": "386d0235fabb627a"
  },
  {
   "metadata": {},
   "cell_type": "code",
   "outputs": [],
   "execution_count": null,
   "source": [
    "# select the final features use for VAE model, and drop others\n",
    "\n",
    "'''final features selected:\n",
    "1. source country\n",
    "2. destination country\n",
    "3. source city\n",
    "4. dest city\n",
    "5. distance\n",
    "6. transportation_mode\n",
    "7. emission\n",
    "'''\n",
    "df.drop(columns=[\"source_latitude\",\"source_longitude\",\"dest_lat\",\"dest_lon\",\"transport_category\",\"shipping_mode\"\n",
    " ], inplace=True)"
   ],
   "id": "34d2d51f7ae47160"
  },
  {
   "metadata": {},
   "cell_type": "code",
   "outputs": [],
   "execution_count": null,
   "source": [
    "# drop duplicate values\n",
    "df_no_duplicates = df.drop_duplicates()"
   ],
   "id": "708c282547999f4d"
  },
  {
   "metadata": {},
   "cell_type": "code",
   "outputs": [],
   "execution_count": null,
   "source": "df_no_duplicates.to_excel(\"data/supply_chain_data.xlsx\",index=False)",
   "id": "3ffda039439ae6d2"
  }
 ],
 "metadata": {
  "kernelspec": {
   "display_name": "Python 3",
   "language": "python",
   "name": "python3"
  },
  "language_info": {
   "codemirror_mode": {
    "name": "ipython",
    "version": 2
   },
   "file_extension": ".py",
   "mimetype": "text/x-python",
   "name": "python",
   "nbconvert_exporter": "python",
   "pygments_lexer": "ipython2",
   "version": "2.7.6"
  }
 },
 "nbformat": 4,
 "nbformat_minor": 5
}
