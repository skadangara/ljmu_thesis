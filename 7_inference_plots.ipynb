{
 "cells": [
  {
   "cell_type": "code",
   "id": "initial_id",
   "metadata": {
    "collapsed": true,
    "ExecuteTime": {
     "end_time": "2025-10-04T10:26:00.565979Z",
     "start_time": "2025-10-04T10:26:00.561589Z"
    }
   },
   "source": [
    "import pandas as pd\n",
    "import matplotlib.pyplot as plt\n",
    "import seaborn as sns\n",
    "import ast"
   ],
   "outputs": [],
   "execution_count": 2
  },
  {
   "metadata": {
    "ExecuteTime": {
     "end_time": "2025-10-04T10:27:04.076315Z",
     "start_time": "2025-10-04T10:27:04.060558Z"
    }
   },
   "cell_type": "code",
   "source": "data = pd.read_excel(\"results/test_result_VAE_output.xlsx\")",
   "id": "cdbd439646681bbb",
   "outputs": [],
   "execution_count": 5
  },
  {
   "metadata": {
    "ExecuteTime": {
     "end_time": "2025-10-04T10:27:06.847098Z",
     "start_time": "2025-10-04T10:27:06.838804Z"
    }
   },
   "cell_type": "code",
   "source": "data.head()",
   "id": "26ba240d825746e2",
   "outputs": [
    {
     "data": {
      "text/plain": [
       "          source source_country   destination       destination_country  \\\n",
       "0         Madrid          Spain        Zurich               Switzerland   \n",
       "1       Brussels        Belgium        Warsaw                    Poland   \n",
       "2         Caguas    puerto rico  Villahermosa                    mexico   \n",
       "3  Saint Charles        ee. uu.   Los Angeles  united states of america   \n",
       "4         Madrid          Spain      Istanbul                    Turkey   \n",
       "\n",
       "      distance transportation_mode     emission  \\\n",
       "0  1247.170000         Heavy Truck    62.358500   \n",
       "1  1159.770000         Heavy Truck    57.988500   \n",
       "2  2810.273673         Air Freight  1489.445047   \n",
       "3  3386.713111         Air Freight  1794.957949   \n",
       "4  3585.000000         Air Freight  2151.000000   \n",
       "\n",
       "                                          vae_output  \n",
       "0  {'distance': 1902.85, 'emission': 106.97, 'mod...  \n",
       "1  {'distance': 1419.82, 'emission': 88.55, 'mode...  \n",
       "2  {'distance': 1256.61, 'emission': 263.29, 'mod...  \n",
       "3  {'distance': 2512.48, 'emission': 433.89, 'mod...  \n",
       "4  {'distance': 2420.39, 'emission': 486.64, 'mod...  "
      ],
      "text/html": [
       "<div>\n",
       "<style scoped>\n",
       "    .dataframe tbody tr th:only-of-type {\n",
       "        vertical-align: middle;\n",
       "    }\n",
       "\n",
       "    .dataframe tbody tr th {\n",
       "        vertical-align: top;\n",
       "    }\n",
       "\n",
       "    .dataframe thead th {\n",
       "        text-align: right;\n",
       "    }\n",
       "</style>\n",
       "<table border=\"1\" class=\"dataframe\">\n",
       "  <thead>\n",
       "    <tr style=\"text-align: right;\">\n",
       "      <th></th>\n",
       "      <th>source</th>\n",
       "      <th>source_country</th>\n",
       "      <th>destination</th>\n",
       "      <th>destination_country</th>\n",
       "      <th>distance</th>\n",
       "      <th>transportation_mode</th>\n",
       "      <th>emission</th>\n",
       "      <th>vae_output</th>\n",
       "    </tr>\n",
       "  </thead>\n",
       "  <tbody>\n",
       "    <tr>\n",
       "      <th>0</th>\n",
       "      <td>Madrid</td>\n",
       "      <td>Spain</td>\n",
       "      <td>Zurich</td>\n",
       "      <td>Switzerland</td>\n",
       "      <td>1247.170000</td>\n",
       "      <td>Heavy Truck</td>\n",
       "      <td>62.358500</td>\n",
       "      <td>{'distance': 1902.85, 'emission': 106.97, 'mod...</td>\n",
       "    </tr>\n",
       "    <tr>\n",
       "      <th>1</th>\n",
       "      <td>Brussels</td>\n",
       "      <td>Belgium</td>\n",
       "      <td>Warsaw</td>\n",
       "      <td>Poland</td>\n",
       "      <td>1159.770000</td>\n",
       "      <td>Heavy Truck</td>\n",
       "      <td>57.988500</td>\n",
       "      <td>{'distance': 1419.82, 'emission': 88.55, 'mode...</td>\n",
       "    </tr>\n",
       "    <tr>\n",
       "      <th>2</th>\n",
       "      <td>Caguas</td>\n",
       "      <td>puerto rico</td>\n",
       "      <td>Villahermosa</td>\n",
       "      <td>mexico</td>\n",
       "      <td>2810.273673</td>\n",
       "      <td>Air Freight</td>\n",
       "      <td>1489.445047</td>\n",
       "      <td>{'distance': 1256.61, 'emission': 263.29, 'mod...</td>\n",
       "    </tr>\n",
       "    <tr>\n",
       "      <th>3</th>\n",
       "      <td>Saint Charles</td>\n",
       "      <td>ee. uu.</td>\n",
       "      <td>Los Angeles</td>\n",
       "      <td>united states of america</td>\n",
       "      <td>3386.713111</td>\n",
       "      <td>Air Freight</td>\n",
       "      <td>1794.957949</td>\n",
       "      <td>{'distance': 2512.48, 'emission': 433.89, 'mod...</td>\n",
       "    </tr>\n",
       "    <tr>\n",
       "      <th>4</th>\n",
       "      <td>Madrid</td>\n",
       "      <td>Spain</td>\n",
       "      <td>Istanbul</td>\n",
       "      <td>Turkey</td>\n",
       "      <td>3585.000000</td>\n",
       "      <td>Air Freight</td>\n",
       "      <td>2151.000000</td>\n",
       "      <td>{'distance': 2420.39, 'emission': 486.64, 'mod...</td>\n",
       "    </tr>\n",
       "  </tbody>\n",
       "</table>\n",
       "</div>"
      ]
     },
     "execution_count": 6,
     "metadata": {},
     "output_type": "execute_result"
    }
   ],
   "execution_count": 6
  },
  {
   "metadata": {
    "ExecuteTime": {
     "end_time": "2025-10-04T10:27:08.930245Z",
     "start_time": "2025-10-04T10:27:08.922351Z"
    }
   },
   "cell_type": "code",
   "source": [
    " # Convert string dicts to real Python dicts\n",
    "data['vae_output'] = data['vae_output'].apply(lambda x: ast.literal_eval(x))\n",
    "\n",
    "# Extract into new columns\n",
    "data['vae_distance'] = data['vae_output'].apply(lambda x: x['distance'])\n",
    "data['vae_emission'] = data['vae_output'].apply(lambda x: x['emission'])\n",
    "\n",
    "# Some rows may use 'mode' key, others 'transportation_mode'\n",
    "data['vae_mode'] = data['vae_output'].apply(\n",
    "    lambda x: x.get('mode') if 'mode' in x else x.get('transportation_mode')\n",
    ")\n"
   ],
   "id": "8070e3c363fd21bb",
   "outputs": [],
   "execution_count": 7
  },
  {
   "metadata": {
    "ExecuteTime": {
     "end_time": "2025-10-04T10:27:17.276695Z",
     "start_time": "2025-10-04T10:27:17.264215Z"
    }
   },
   "cell_type": "code",
   "source": "data.head()",
   "id": "216a77f447a1213e",
   "outputs": [
    {
     "data": {
      "text/plain": [
       "          source source_country   destination       destination_country  \\\n",
       "0         Madrid          Spain        Zurich               Switzerland   \n",
       "1       Brussels        Belgium        Warsaw                    Poland   \n",
       "2         Caguas    puerto rico  Villahermosa                    mexico   \n",
       "3  Saint Charles        ee. uu.   Los Angeles  united states of america   \n",
       "4         Madrid          Spain      Istanbul                    Turkey   \n",
       "\n",
       "      distance transportation_mode     emission  \\\n",
       "0  1247.170000         Heavy Truck    62.358500   \n",
       "1  1159.770000         Heavy Truck    57.988500   \n",
       "2  2810.273673         Air Freight  1489.445047   \n",
       "3  3386.713111         Air Freight  1794.957949   \n",
       "4  3585.000000         Air Freight  2151.000000   \n",
       "\n",
       "                                          vae_output  vae_distance  \\\n",
       "0  {'distance': 1902.85, 'emission': 106.97, 'mod...       1902.85   \n",
       "1  {'distance': 1419.82, 'emission': 88.55, 'mode...       1419.82   \n",
       "2  {'distance': 1256.61, 'emission': 263.29, 'mod...       1256.61   \n",
       "3  {'distance': 2512.48, 'emission': 433.89, 'mod...       2512.48   \n",
       "4  {'distance': 2420.39, 'emission': 486.64, 'mod...       2420.39   \n",
       "\n",
       "   vae_emission        vae_mode  \n",
       "0        106.97     Cargo Train  \n",
       "1         88.55     Cargo Train  \n",
       "2        263.29     Cargo Train  \n",
       "3        433.89  Container Ship  \n",
       "4        486.64     Cargo Train  "
      ],
      "text/html": [
       "<div>\n",
       "<style scoped>\n",
       "    .dataframe tbody tr th:only-of-type {\n",
       "        vertical-align: middle;\n",
       "    }\n",
       "\n",
       "    .dataframe tbody tr th {\n",
       "        vertical-align: top;\n",
       "    }\n",
       "\n",
       "    .dataframe thead th {\n",
       "        text-align: right;\n",
       "    }\n",
       "</style>\n",
       "<table border=\"1\" class=\"dataframe\">\n",
       "  <thead>\n",
       "    <tr style=\"text-align: right;\">\n",
       "      <th></th>\n",
       "      <th>source</th>\n",
       "      <th>source_country</th>\n",
       "      <th>destination</th>\n",
       "      <th>destination_country</th>\n",
       "      <th>distance</th>\n",
       "      <th>transportation_mode</th>\n",
       "      <th>emission</th>\n",
       "      <th>vae_output</th>\n",
       "      <th>vae_distance</th>\n",
       "      <th>vae_emission</th>\n",
       "      <th>vae_mode</th>\n",
       "    </tr>\n",
       "  </thead>\n",
       "  <tbody>\n",
       "    <tr>\n",
       "      <th>0</th>\n",
       "      <td>Madrid</td>\n",
       "      <td>Spain</td>\n",
       "      <td>Zurich</td>\n",
       "      <td>Switzerland</td>\n",
       "      <td>1247.170000</td>\n",
       "      <td>Heavy Truck</td>\n",
       "      <td>62.358500</td>\n",
       "      <td>{'distance': 1902.85, 'emission': 106.97, 'mod...</td>\n",
       "      <td>1902.85</td>\n",
       "      <td>106.97</td>\n",
       "      <td>Cargo Train</td>\n",
       "    </tr>\n",
       "    <tr>\n",
       "      <th>1</th>\n",
       "      <td>Brussels</td>\n",
       "      <td>Belgium</td>\n",
       "      <td>Warsaw</td>\n",
       "      <td>Poland</td>\n",
       "      <td>1159.770000</td>\n",
       "      <td>Heavy Truck</td>\n",
       "      <td>57.988500</td>\n",
       "      <td>{'distance': 1419.82, 'emission': 88.55, 'mode...</td>\n",
       "      <td>1419.82</td>\n",
       "      <td>88.55</td>\n",
       "      <td>Cargo Train</td>\n",
       "    </tr>\n",
       "    <tr>\n",
       "      <th>2</th>\n",
       "      <td>Caguas</td>\n",
       "      <td>puerto rico</td>\n",
       "      <td>Villahermosa</td>\n",
       "      <td>mexico</td>\n",
       "      <td>2810.273673</td>\n",
       "      <td>Air Freight</td>\n",
       "      <td>1489.445047</td>\n",
       "      <td>{'distance': 1256.61, 'emission': 263.29, 'mod...</td>\n",
       "      <td>1256.61</td>\n",
       "      <td>263.29</td>\n",
       "      <td>Cargo Train</td>\n",
       "    </tr>\n",
       "    <tr>\n",
       "      <th>3</th>\n",
       "      <td>Saint Charles</td>\n",
       "      <td>ee. uu.</td>\n",
       "      <td>Los Angeles</td>\n",
       "      <td>united states of america</td>\n",
       "      <td>3386.713111</td>\n",
       "      <td>Air Freight</td>\n",
       "      <td>1794.957949</td>\n",
       "      <td>{'distance': 2512.48, 'emission': 433.89, 'mod...</td>\n",
       "      <td>2512.48</td>\n",
       "      <td>433.89</td>\n",
       "      <td>Container Ship</td>\n",
       "    </tr>\n",
       "    <tr>\n",
       "      <th>4</th>\n",
       "      <td>Madrid</td>\n",
       "      <td>Spain</td>\n",
       "      <td>Istanbul</td>\n",
       "      <td>Turkey</td>\n",
       "      <td>3585.000000</td>\n",
       "      <td>Air Freight</td>\n",
       "      <td>2151.000000</td>\n",
       "      <td>{'distance': 2420.39, 'emission': 486.64, 'mod...</td>\n",
       "      <td>2420.39</td>\n",
       "      <td>486.64</td>\n",
       "      <td>Cargo Train</td>\n",
       "    </tr>\n",
       "  </tbody>\n",
       "</table>\n",
       "</div>"
      ]
     },
     "execution_count": 8,
     "metadata": {},
     "output_type": "execute_result"
    }
   ],
   "execution_count": 8
  },
  {
   "metadata": {
    "ExecuteTime": {
     "end_time": "2025-10-04T11:32:32.760087Z",
     "start_time": "2025-10-04T11:32:32.745157Z"
    }
   },
   "cell_type": "code",
   "source": "data.info()",
   "id": "779af21d599fd6e",
   "outputs": [
    {
     "name": "stdout",
     "output_type": "stream",
     "text": [
      "<class 'pandas.core.frame.DataFrame'>\n",
      "RangeIndex: 14 entries, 0 to 13\n",
      "Data columns (total 13 columns):\n",
      " #   Column               Non-Null Count  Dtype  \n",
      "---  ------               --------------  -----  \n",
      " 0   source               14 non-null     object \n",
      " 1   source_country       14 non-null     object \n",
      " 2   destination          14 non-null     object \n",
      " 3   destination_country  14 non-null     object \n",
      " 4   distance             14 non-null     float64\n",
      " 5   transportation_mode  14 non-null     object \n",
      " 6   emission             14 non-null     float64\n",
      " 7   vae_output           14 non-null     object \n",
      " 8   vae_distance         14 non-null     float64\n",
      " 9   vae_emission         14 non-null     float64\n",
      " 10  vae_mode             14 non-null     object \n",
      " 11  distance_diff_pct    14 non-null     float64\n",
      " 12  emission_diff_pct    14 non-null     float64\n",
      "dtypes: float64(6), object(7)\n",
      "memory usage: 1.5+ KB\n"
     ]
    }
   ],
   "execution_count": 22
  },
  {
   "metadata": {
    "ExecuteTime": {
     "end_time": "2025-10-04T10:31:27.470971Z",
     "start_time": "2025-10-04T10:31:27.465631Z"
    }
   },
   "cell_type": "code",
   "source": [
    "data['distance_diff_pct'] = (\n",
    "    (data['vae_distance'] - data['distance']) / data['distance']\n",
    ") * 100\n",
    "\n",
    "data['emission_diff_pct'] = (\n",
    "    (data['vae_emission'] - data['emission']) / data['emission']\n",
    ") * 100"
   ],
   "id": "b82135c7cc91fb56",
   "outputs": [],
   "execution_count": 10
  },
  {
   "metadata": {
    "ExecuteTime": {
     "end_time": "2025-10-04T10:31:29.341077Z",
     "start_time": "2025-10-04T10:31:29.326503Z"
    }
   },
   "cell_type": "code",
   "source": [
    "# Create a formatted comparison table with averages\n",
    "\n",
    "# Select relevant columns\n",
    "comparison_table = data[['source','destination',\n",
    "                         'distance','vae_distance','distance_diff_pct',\n",
    "                         'emission','vae_emission','emission_diff_pct']].copy()\n",
    "\n",
    "# Round for neatness\n",
    "comparison_table = comparison_table.round({\n",
    "    'distance':2,'vae_distance':2,'distance_diff_pct':1,\n",
    "    'emission':2,'vae_emission':2,'emission_diff_pct':1\n",
    "})\n",
    "\n",
    "# Add average row\n",
    "avg_row = {\n",
    "    'source':'--AVERAGE--',\n",
    "    'destination':'',\n",
    "    'distance': round(data['distance'].mean(),2),\n",
    "    'vae_distance': round(data['vae_distance'].mean(),2),\n",
    "    'distance_diff_pct': round(data['distance_diff_pct'].mean(),1),\n",
    "    'emission': round(data['emission'].mean(),2),\n",
    "    'vae_emission': round(data['vae_emission'].mean(),2),\n",
    "    'emission_diff_pct': round(data['emission_diff_pct'].mean(),1)\n",
    "}\n",
    "\n",
    "comparison_table = pd.concat([comparison_table, pd.DataFrame([avg_row])], ignore_index=True)\n",
    "\n",
    "# Display\n",
    "print(comparison_table)\n"
   ],
   "id": "6bdd99fe656e8342",
   "outputs": [
    {
     "name": "stdout",
     "output_type": "stream",
     "text": [
      "           source   destination  distance  vae_distance  distance_diff_pct  \\\n",
      "0          Madrid        Zurich   1247.17       1902.85               52.6   \n",
      "1        Brussels        Warsaw   1159.77       1419.82               22.4   \n",
      "2          Caguas  Villahermosa   2810.27       1256.61              -55.3   \n",
      "3   Saint Charles   Los Angeles   3386.71       2512.48              -25.8   \n",
      "4          Madrid      Istanbul   3585.00       2420.39              -32.5   \n",
      "5          Lisbon        London   2197.00       1446.70              -34.2   \n",
      "6           Milan     Barcelona    979.00       1446.70               47.8   \n",
      "7        New York        London   5567.00       3949.14              -29.1   \n",
      "8      Copenhagen     Stockholm    522.00        521.53               -0.1   \n",
      "9           Miami        Madrid   7100.00       5086.28              -28.4   \n",
      "10          Paris        Berlin    878.00        704.82              -19.7   \n",
      "11         London     Amsterdam    360.00        507.09               40.9   \n",
      "12       Brussels         Milan    697.00        556.09              -20.2   \n",
      "13          Miami   Los Angeles   4350.00       4239.16               -2.5   \n",
      "14    --AVERAGE--                 2488.49       1997.83               -6.0   \n",
      "\n",
      "    emission  vae_emission  emission_diff_pct  \n",
      "0      62.36        106.97               71.5  \n",
      "1      57.99         88.55               52.7  \n",
      "2    1489.45        263.29              -82.3  \n",
      "3    1794.96        433.89              -75.8  \n",
      "4    2151.00        486.64              -77.4  \n",
      "5    1318.20        322.49              -75.5  \n",
      "6     489.50        322.49              -34.1  \n",
      "7    3340.20        585.54              -82.5  \n",
      "8     313.20        155.17              -50.5  \n",
      "9    4260.00        612.00              -85.6  \n",
      "10    526.80        216.61              -58.9  \n",
      "11   2160.00        164.28              -92.4  \n",
      "12    418.20        195.54              -53.2  \n",
      "13   2175.00         15.04              -99.3  \n",
      "14   1468.35        283.46              -53.1  \n"
     ]
    }
   ],
   "execution_count": 11
  },
  {
   "metadata": {
    "ExecuteTime": {
     "end_time": "2025-10-04T10:32:38.315530Z",
     "start_time": "2025-10-04T10:32:38.296909Z"
    }
   },
   "cell_type": "code",
   "source": "comparison_table.to_excel(\"results/vae_outputs/comparison_table.xlsx\")",
   "id": "8e1e43a3af61f266",
   "outputs": [],
   "execution_count": 12
  },
  {
   "metadata": {
    "ExecuteTime": {
     "end_time": "2025-10-04T10:37:30.106394Z",
     "start_time": "2025-10-04T10:37:30.087693Z"
    }
   },
   "cell_type": "code",
   "source": [
    "# Cross-tabulate original vs VAE mode\n",
    "mode_comparison = pd.crosstab(\n",
    "    data['transportation_mode'],\n",
    "    data['vae_mode'],\n",
    "    rownames=['Original Mode'],\n",
    "    colnames=['VAE Mode']\n",
    ")\n",
    "\n",
    "# Percentage version\n",
    "mode_comparison_pct = mode_comparison.div(mode_comparison.sum(axis=1), axis=0) * 100\n",
    "\n",
    "print(mode_comparison)\n",
    "print(mode_comparison_pct.round(1))"
   ],
   "id": "794a30390f25b026",
   "outputs": [
    {
     "name": "stdout",
     "output_type": "stream",
     "text": [
      "VAE Mode       Cargo Train  Container Ship\n",
      "Original Mode                             \n",
      "Air Freight              7               3\n",
      "Heavy Truck              3               1\n",
      "VAE Mode       Cargo Train  Container Ship\n",
      "Original Mode                             \n",
      "Air Freight           70.0            30.0\n",
      "Heavy Truck           75.0            25.0\n"
     ]
    }
   ],
   "execution_count": 13
  },
  {
   "metadata": {
    "ExecuteTime": {
     "end_time": "2025-10-04T11:41:43.360310Z",
     "start_time": "2025-10-04T11:41:43.198371Z"
    }
   },
   "cell_type": "code",
   "source": [
    "\n",
    "import numpy as np\n",
    "# Ensure seaborn style\n",
    "sns.set(style=\"whitegrid\", font_scale=1.2)\n",
    "\n",
    "# --- Calculate summary stats ---\n",
    "dist_mean = data['distance_diff_pct'].mean()\n",
    "dist_median = data['distance_diff_pct'].median()\n",
    "dist_iqr = np.percentile(data['distance_diff_pct'], 75) - np.percentile(data['distance_diff_pct'], 25)\n",
    "\n",
    "emis_mean = data['emission_diff_pct'].mean()\n",
    "emis_median = data['emission_diff_pct'].median()\n",
    "emis_iqr = np.percentile(data['emission_diff_pct'], 75) - np.percentile(data['emission_diff_pct'], 25)\n",
    "\n",
    "# --- Plot boxplots ---\n",
    "plt.figure(figsize=(8,6))\n",
    "sns.boxplot(data=[data['distance_diff_pct'], data['emission_diff_pct']],\n",
    "            palette=[\"skyblue\",\"lightgreen\"])\n",
    "\n",
    "# Labels & title\n",
    "plt.xticks([0,1], ['Distance % Change','Emission % Change'])\n",
    "plt.title(\"Percentage Change in Distance and Emissions (VAE vs Original)\", fontsize=14, weight=\"bold\")\n",
    "plt.ylabel(\"Percentage Difference (%)\")\n",
    "\n",
    "# Reference line at 0 (no change)\n",
    "plt.axhline(0, color=\"red\", linestyle=\"--\", label=\"No Change (0%)\")\n",
    "\n",
    "# --- Add text annotations ---\n",
    "plt.text(0, dist_mean, f\"Mean={dist_mean:.1f}%\\nMedian={dist_median:.1f}%\\nIQR={dist_iqr:.1f}%\",\n",
    "         ha=\"center\", va=\"bottom\", fontsize=9, color=\"blue\", weight=\"bold\")\n",
    "\n",
    "plt.text(1, emis_mean, f\"Mean={emis_mean:.1f}%\\nMedian={emis_median:.1f}%\\nIQR={emis_iqr:.1f}%\",\n",
    "         ha=\"center\", va=\"top\", fontsize=9, color=\"green\", weight=\"bold\")\n",
    "\n",
    "plt.legend()\n",
    "plt.tight_layout()\n",
    "plt.savefig(\"inference.png\", dpi=300)\n",
    "plt.show()\n"
   ],
   "id": "89c5a961886a0a6e",
   "outputs": [
    {
     "data": {
      "text/plain": [
       "<Figure size 800x600 with 1 Axes>"
      ],
      "image/png": "[encoded data removed]"
     },
     "metadata": {},
     "output_type": "display_data"
    }
   ],
   "execution_count": 23
  },
  {
   "metadata": {},
   "cell_type": "code",
   "outputs": [],
   "execution_count": null,
   "source": "",
   "id": "b4faa5f98cde6c71"
  },
  {
   "metadata": {
    "ExecuteTime": {
     "end_time": "2025-10-04T10:50:22.653524Z",
     "start_time": "2025-10-04T10:50:22.464491Z"
    }
   },
   "cell_type": "code",
   "source": [
    "import plotly.graph_objects as go\n",
    "\n",
    "mode_comparison = pd.crosstab(data['transportation_mode'], data['vae_mode'])\n",
    "\n",
    "sources = []\n",
    "targets = []\n",
    "values = []\n",
    "\n",
    "original_modes = mode_comparison.index.tolist()\n",
    "vae_modes = mode_comparison.columns.tolist()\n",
    "\n",
    "# Build flows\n",
    "for i, o_mode in enumerate(original_modes):\n",
    "    for j, v_mode in enumerate(vae_modes):\n",
    "        val = mode_comparison.loc[o_mode, v_mode]\n",
    "        if val > 0:\n",
    "            sources.append(i)\n",
    "            targets.append(len(original_modes) + j)\n",
    "            values.append(val)\n",
    "\n",
    "labels = original_modes + vae_modes\n",
    "colors = [\"#FF9999\"]*len(original_modes) + [\"#99CCFF\"]*len(vae_modes)\n",
    "\n",
    "fig = go.Figure(go.Sankey(\n",
    "    node=dict(\n",
    "        pad=20,\n",
    "        thickness=20,\n",
    "        line=dict(color=\"black\", width=0.5),\n",
    "        label=labels,\n",
    "        color=colors\n",
    "    ),\n",
    "    link=dict(\n",
    "        source=sources,\n",
    "        target=targets,\n",
    "        value=values\n",
    "    )\n",
    "))\n",
    "\n",
    "fig.update_layout(title_text=\"Mode Mapping: Original → VAE\", font_size=12)\n",
    "fig.show()\n"
   ],
   "id": "de07a029316ec820",
   "outputs": [
    {
     "data": {
      "application/vnd.plotly.v1+json": {
       "data": [
        {
         "link": {
          "source": [
           0,
           0,
           1,
           1
          ],
          "target": [
           2,
           3,
           2,
           3
          ],
          "value": [
           7,
           3,
           3,
           1
          ]
         },
         "node": {
          "color": [
           "#FF9999",
           "#FF9999",
           "#99CCFF",
           "#99CCFF"
          ],
          "label": [
           "Air Freight",
           "Heavy Truck",
           "Cargo Train",
           "Container Ship"
          ],
          "line": {
           "color": "black",
           "width": 0.5
          },
          "pad": 20,
          "thickness": 20
         },
         "type": "sankey"
        }
       ],
       "layout": {
        "template": {
         "data": {
          "histogram2dcontour": [
           {
            "type": "histogram2dcontour",
            "colorbar": {
             "outlinewidth": 0,
             "ticks": ""
            },
            "colorscale": [
             [
              0.0,
              "#0d0887"
             ],
             [
              0.1111111111111111,
              "#46039f"
             ],
             [
              0.2222222222222222,
              "#7201a8"
             ],
             [
              0.3333333333333333,
              "#9c179e"
             ],
             [
              0.4444444444444444,
              "#bd3786"
             ],
             [
              0.5555555555555556,
              "#d8576b"
             ],
             [
              0.6666666666666666,
              "#ed7953"
             ],
             [
              0.7777777777777778,
              "#fb9f3a"
             ],
             [
              0.8888888888888888,
              "#fdca26"
             ],
             [
              1.0,
              "#f0f921"
             ]
            ]
           }
          ],
          "choropleth": [
           {
            "type": "choropleth",
            "colorbar": {
             "outlinewidth": 0,
             "ticks": ""
            }
           }
          ],
          "histogram2d": [
           {
            "type": "histogram2d",
            "colorbar": {
             "outlinewidth": 0,
             "ticks": ""
            },
            "colorscale": [
             [
              0.0,
              "#0d0887"
             ],
             [
              0.1111111111111111,
              "#46039f"
             ],
             [
              0.2222222222222222,
              "#7201a8"
             ],
             [
              0.3333333333333333,
              "#9c179e"
             ],
             [
              0.4444444444444444,
              "#bd3786"
             ],
             [
              0.5555555555555556,
              "#d8576b"
             ],
             [
              0.6666666666666666,
              "#ed7953"
             ],
             [
              0.7777777777777778,
              "#fb9f3a"
             ],
             [
              0.8888888888888888,
              "#fdca26"
             ],
             [
              1.0,
              "#f0f921"
             ]
            ]
           }
          ],
          "heatmap": [
           {
            "type": "heatmap",
            "colorbar": {
             "outlinewidth": 0,
             "ticks": ""
            },
            "colorscale": [
             [
              0.0,
              "#0d0887"
             ],
             [
              0.1111111111111111,
              "#46039f"
             ],
             [
              0.2222222222222222,
              "#7201a8"
             ],
             [
              0.3333333333333333,
              "#9c179e"
             ],
             [
              0.4444444444444444,
              "#bd3786"
             ],
             [
              0.5555555555555556,
              "#d8576b"
             ],
             [
              0.6666666666666666,
              "#ed7953"
             ],
             [
              0.7777777777777778,
              "#fb9f3a"
             ],
             [
              0.8888888888888888,
              "#fdca26"
             ],
             [
              1.0,
              "#f0f921"
             ]
            ]
           }
          ],
          "contourcarpet": [
           {
            "type": "contourcarpet",
            "colorbar": {
             "outlinewidth": 0,
             "ticks": ""
            }
           }
          ],
          "contour": [
           {
            "type": "contour",
            "colorbar": {
             "outlinewidth": 0,
             "ticks": ""
            },
            "colorscale": [
             [
              0.0,
              "#0d0887"
             ],
             [
              0.1111111111111111,
              "#46039f"
             ],
             [
              0.2222222222222222,
              "#7201a8"
             ],
             [
              0.3333333333333333,
              "#9c179e"
             ],
             [
              0.4444444444444444,
              "#bd3786"
             ],
             [
              0.5555555555555556,
              "#d8576b"
             ],
             [
              0.6666666666666666,
              "#ed7953"
             ],
             [
              0.7777777777777778,
              "#fb9f3a"
             ],
             [
              0.8888888888888888,
              "#fdca26"
             ],
             [
              1.0,
              "#f0f921"
             ]
            ]
           }
          ],
          "surface": [
           {
            "type": "surface",
            "colorbar": {
             "outlinewidth": 0,
             "ticks": ""
            },
            "colorscale": [
             [
              0.0,
              "#0d0887"
             ],
             [
              0.1111111111111111,
              "#46039f"
             ],
             [
              0.2222222222222222,
              "#7201a8"
             ],
             [
              0.3333333333333333,
              "#9c179e"
             ],
             [
              0.4444444444444444,
              "#bd3786"
             ],
             [
              0.5555555555555556,
              "#d8576b"
             ],
             [
              0.6666666666666666,
              "#ed7953"
             ],
             [
              0.7777777777777778,
              "#fb9f3a"
             ],
             [
              0.8888888888888888,
              "#fdca26"
             ],
             [
              1.0,
              "#f0f921"
             ]
            ]
           }
          ],
          "mesh3d": [
           {
            "type": "mesh3d",
            "colorbar": {
             "outlinewidth": 0,
             "ticks": ""
            }
           }
          ],
          "scatter": [
           {
            "fillpattern": {
             "fillmode": "overlay",
             "size": 10,
             "solidity": 0.2
            },
            "type": "scatter"
           }
          ],
          "parcoords": [
           {
            "type": "parcoords",
            "line": {
             "colorbar": {
              "outlinewidth": 0,
              "ticks": ""
             }
            }
           }
          ],
          "scatterpolargl": [
           {
            "type": "scatterpolargl",
            "marker": {
             "colorbar": {
              "outlinewidth": 0,
              "ticks": ""
             }
            }
           }
          ],
          "bar": [
           {
            "error_x": {
             "color": "#2a3f5f"
            },
            "error_y": {
             "color": "#2a3f5f"
            },
            "marker": {
             "line": {
              "color": "#E5ECF6",
              "width": 0.5
             },
             "pattern": {
              "fillmode": "overlay",
              "size": 10,
              "solidity": 0.2
             }
            },
            "type": "bar"
           }
          ],
          "scattergeo": [
           {
            "type": "scattergeo",
            "marker": {
             "colorbar": {
              "outlinewidth": 0,
              "ticks": ""
             }
            }
           }
          ],
          "scatterpolar": [
           {
            "type": "scatterpolar",
            "marker": {
             "colorbar": {
              "outlinewidth": 0,
              "ticks": ""
             }
            }
           }
          ],
          "histogram": [
           {
            "marker": {
             "pattern": {
              "fillmode": "overlay",
              "size": 10,
              "solidity": 0.2
             }
            },
            "type": "histogram"
           }
          ],
          "scattergl": [
           {
            "type": "scattergl",
            "marker": {
             "colorbar": {
              "outlinewidth": 0,
              "ticks": ""
             }
            }
           }
          ],
          "scatter3d": [
           {
            "type": "scatter3d",
            "line": {
             "colorbar": {
              "outlinewidth": 0,
              "ticks": ""
             }
            },
            "marker": {
             "colorbar": {
              "outlinewidth": 0,
              "ticks": ""
             }
            }
           }
          ],
          "scattermap": [
           {
            "type": "scattermap",
            "marker": {
             "colorbar": {
              "outlinewidth": 0,
              "ticks": ""
             }
            }
           }
          ],
          "scattermapbox": [
           {
            "type": "scattermapbox",
            "marker": {
             "colorbar": {
              "outlinewidth": 0,
              "ticks": ""
             }
            }
           }
          ],
          "scatterternary": [
           {
            "type": "scatterternary",
            "marker": {
             "colorbar": {
              "outlinewidth": 0,
              "ticks": ""
             }
            }
           }
          ],
          "scattercarpet": [
           {
            "type": "scattercarpet",
            "marker": {
             "colorbar": {
              "outlinewidth": 0,
              "ticks": ""
             }
            }
           }
          ],
          "carpet": [
           {
            "aaxis": {
             "endlinecolor": "#2a3f5f",
             "gridcolor": "white",
             "linecolor": "white",
             "minorgridcolor": "white",
             "startlinecolor": "#2a3f5f"
            },
            "baxis": {
             "endlinecolor": "#2a3f5f",
             "gridcolor": "white",
             "linecolor": "white",
             "minorgridcolor": "white",
             "startlinecolor": "#2a3f5f"
            },
            "type": "carpet"
           }
          ],
          "table": [
           {
            "cells": {
             "fill": {
              "color": "#EBF0F8"
             },
             "line": {
              "color": "white"
             }
            },
            "header": {
             "fill": {
              "color": "#C8D4E3"
             },
             "line": {
              "color": "white"
             }
            },
            "type": "table"
           }
          ],
          "barpolar": [
           {
            "marker": {
             "line": {
              "color": "#E5ECF6",
              "width": 0.5
             },
             "pattern": {
              "fillmode": "overlay",
              "size": 10,
              "solidity": 0.2
             }
            },
            "type": "barpolar"
           }
          ],
          "pie": [
           {
            "automargin": true,
            "type": "pie"
           }
          ]
         },
         "layout": {
          "autotypenumbers": "strict",
          "colorway": [
           "#636efa",
           "#EF553B",
           "#00cc96",
           "#ab63fa",
           "#FFA15A",
           "#19d3f3",
           "#FF6692",
           "#B6E880",
           "#FF97FF",
           "#FECB52"
          ],
          "font": {
           "color": "#2a3f5f"
          },
          "hovermode": "closest",
          "hoverlabel": {
           "align": "left"
          },
          "paper_bgcolor": "white",
          "plot_bgcolor": "#E5ECF6",
          "polar": {
           "bgcolor": "#E5ECF6",
           "angularaxis": {
            "gridcolor": "white",
            "linecolor": "white",
            "ticks": ""
           },
           "radialaxis": {
            "gridcolor": "white",
            "linecolor": "white",
            "ticks": ""
           }
          },
          "ternary": {
           "bgcolor": "#E5ECF6",
           "aaxis": {
            "gridcolor": "white",
            "linecolor": "white",
            "ticks": ""
           },
           "baxis": {
            "gridcolor": "white",
            "linecolor": "white",
            "ticks": ""
           },
           "caxis": {
            "gridcolor": "white",
            "linecolor": "white",
            "ticks": ""
           }
          },
          "coloraxis": {
           "colorbar": {
            "outlinewidth": 0,
            "ticks": ""
           }
          },
          "colorscale": {
           "sequential": [
            [
             0.0,
             "#0d0887"
            ],
            [
             0.1111111111111111,
             "#46039f"
            ],
            [
             0.2222222222222222,
             "#7201a8"
            ],
            [
             0.3333333333333333,
             "#9c179e"
            ],
            [
             0.4444444444444444,
             "#bd3786"
            ],
            [
             0.5555555555555556,
             "#d8576b"
            ],
            [
             0.6666666666666666,
             "#ed7953"
            ],
            [
             0.7777777777777778,
             "#fb9f3a"
            ],
            [
             0.8888888888888888,
             "#fdca26"
            ],
            [
             1.0,
             "#f0f921"
            ]
           ],
           "sequentialminus": [
            [
             0.0,
             "#0d0887"
            ],
            [
             0.1111111111111111,
             "#46039f"
            ],
            [
             0.2222222222222222,
             "#7201a8"
            ],
            [
             0.3333333333333333,
             "#9c179e"
            ],
            [
             0.4444444444444444,
             "#bd3786"
            ],
            [
             0.5555555555555556,
             "#d8576b"
            ],
            [
             0.6666666666666666,
             "#ed7953"
            ],
            [
             0.7777777777777778,
             "#fb9f3a"
            ],
            [
             0.8888888888888888,
             "#fdca26"
            ],
            [
             1.0,
             "#f0f921"
            ]
           ],
           "diverging": [
            [
             0,
             "#8e0152"
            ],
            [
             0.1,
             "#c51b7d"
            ],
            [
             0.2,
             "#de77ae"
            ],
            [
             0.3,
             "#f1b6da"
            ],
            [
             0.4,
             "#fde0ef"
            ],
            [
             0.5,
             "#f7f7f7"
            ],
            [
             0.6,
             "#e6f5d0"
            ],
            [
             0.7,
             "#b8e186"
            ],
            [
             0.8,
             "#7fbc41"
            ],
            [
             0.9,
             "#4d9221"
            ],
            [
             1,
             "#276419"
            ]
           ]
          },
          "xaxis": {
           "gridcolor": "white",
           "linecolor": "white",
           "ticks": "",
           "title": {
            "standoff": 15
           },
           "zerolinecolor": "white",
           "automargin": true,
           "zerolinewidth": 2
          },
          "yaxis": {
           "gridcolor": "white",
           "linecolor": "white",
           "ticks": "",
           "title": {
            "standoff": 15
           },
           "zerolinecolor": "white",
           "automargin": true,
           "zerolinewidth": 2
          },
          "scene": {
           "xaxis": {
            "backgroundcolor": "#E5ECF6",
            "gridcolor": "white",
            "linecolor": "white",
            "showbackground": true,
            "ticks": "",
            "zerolinecolor": "white",
            "gridwidth": 2
           },
           "yaxis": {
            "backgroundcolor": "#E5ECF6",
            "gridcolor": "white",
            "linecolor": "white",
            "showbackground": true,
            "ticks": "",
            "zerolinecolor": "white",
            "gridwidth": 2
           },
           "zaxis": {
            "backgroundcolor": "#E5ECF6",
            "gridcolor": "white",
            "linecolor": "white",
            "showbackground": true,
            "ticks": "",
            "zerolinecolor": "white",
            "gridwidth": 2
           }
          },
          "shapedefaults": {
           "line": {
            "color": "#2a3f5f"
           }
          },
          "annotationdefaults": {
           "arrowcolor": "#2a3f5f",
           "arrowhead": 0,
           "arrowwidth": 1
          },
          "geo": {
           "bgcolor": "white",
           "landcolor": "#E5ECF6",
           "subunitcolor": "white",
           "showland": true,
           "showlakes": true,
           "lakecolor": "white"
          },
          "title": {
           "x": 0.05
          },
          "mapbox": {
           "style": "light"
          }
         }
        },
        "title": {
         "text": "Mode Mapping: Original → VAE"
        },
        "font": {
         "size": 12
        }
       },
       "config": {
        "plotlyServerURL": "https://plot.ly"
       }
      }
     },
     "metadata": {},
     "output_type": "display_data"
    }
   ],
   "execution_count": 18
  },
  {
   "metadata": {
    "ExecuteTime": {
     "end_time": "2025-10-04T11:55:36.139736Z",
     "start_time": "2025-10-04T11:55:35.876850Z"
    }
   },
   "cell_type": "code",
   "source": [
    "import matplotlib.pyplot as plt\n",
    "\n",
    "# -------------------------------\n",
    "# Data prep\n",
    "# -------------------------------\n",
    "# Counts for grouped bar plot\n",
    "orig_counts = data['transportation_mode'].value_counts()\n",
    "vae_counts = data['vae_mode'].value_counts()\n",
    "\n",
    "mode_counts = pd.DataFrame({'Original': orig_counts, 'VAE': vae_counts}).fillna(0)\n",
    "\n",
    "# Percentages for stacked bar plot\n",
    "mode_mapping_pct = pd.crosstab(\n",
    "    data['transportation_mode'],\n",
    "    data['vae_mode'],\n",
    "    normalize='index'\n",
    ") * 100\n",
    "\n",
    "# -------------------------------\n",
    "# Plot\n",
    "# -------------------------------\n",
    "fig, axes = plt.subplots(1, 2, figsize=(14,6))\n",
    "\n",
    "# Grouped bar plot\n",
    "mode_counts.plot(kind='bar', ax=axes[0], color=['skyblue','lightgreen'])\n",
    "axes[0].set_title(\"Mode Distribution: Original vs VAE\", fontsize=13, weight=\"bold\")\n",
    "axes[0].set_ylabel(\"Count\")\n",
    "axes[0].set_xlabel(\"Transportation Mode\")\n",
    "axes[0].tick_params(axis='x', rotation=45)\n",
    "axes[0].legend(title=\"Dataset\")\n",
    "\n",
    "# Stacked bar plot\n",
    "mode_mapping_pct.plot(\n",
    "    kind='bar', stacked=True, ax=axes[1], colormap=\"tab20c\"\n",
    ")\n",
    "axes[1].set_title(\"Mode Reassignment: Original → VAE\", fontsize=13, weight=\"bold\")\n",
    "axes[1].set_ylabel(\"Percentage of Routes\")\n",
    "axes[1].set_xlabel(\"Original Mode\")\n",
    "axes[1].tick_params(axis='x', rotation=45)\n",
    "axes[1].legend(title=\"VAE Mode\", bbox_to_anchor=(1.05,1), loc='upper left')\n",
    "\n",
    "plt.suptitle(\"Transportation Mode Shifts Under VAE\", fontsize=15, weight=\"bold\")\n",
    "plt.tight_layout()\n",
    "plt.savefig(\"inference2.png\", dpi=300)\n",
    "plt.show()\n"
   ],
   "id": "957558670f6831fd",
   "outputs": [
    {
     "data": {
      "text/plain": [
       "<Figure size 1400x600 with 2 Axes>"
      ],
      "image/png": "[encoded data removed]"
     },
     "metadata": {},
     "output_type": "display_data"
    }
   ],
   "execution_count": 24
  },
  {
   "metadata": {
    "ExecuteTime": {
     "end_time": "2025-10-04T11:32:00.207521Z",
     "start_time": "2025-10-04T11:32:00.197241Z"
    }
   },
   "cell_type": "code",
   "source": [
    "\n",
    "mode_counts_table = pd.DataFrame({\n",
    "    \"Original Count\": orig_counts,\n",
    "    \"VAE Count\": vae_counts\n",
    "}).fillna(0).astype(int)\n",
    "\n",
    "# Compute percentage change safely\n",
    "def safe_pct_change(row):\n",
    "    if row[\"Original Count\"] == 0 and row[\"VAE Count\"] > 0:\n",
    "        return \"Newly Introduced\"\n",
    "    elif row[\"Original Count\"] == 0 and row[\"VAE Count\"] == 0:\n",
    "        return \"No Change\"\n",
    "    else:\n",
    "        return f\"{((row['VAE Count'] - row['Original Count']) / row['Original Count'] * 100):.1f}%\"\n",
    "\n",
    "mode_counts_table[\"% Change\"] = mode_counts_table.apply(safe_pct_change, axis=1)\n",
    "\n",
    "print(mode_counts_table)\n"
   ],
   "id": "9b68f594d62415ea",
   "outputs": [
    {
     "name": "stdout",
     "output_type": "stream",
     "text": [
      "                Original Count  VAE Count          % Change\n",
      "Air Freight                 10          0           -100.0%\n",
      "Cargo Train                  0         10  Newly Introduced\n",
      "Container Ship               0          4  Newly Introduced\n",
      "Heavy Truck                  4          0           -100.0%\n"
     ]
    }
   ],
   "execution_count": 21
  },
  {
   "metadata": {
    "ExecuteTime": {
     "end_time": "2025-10-04T12:06:43.378641Z",
     "start_time": "2025-10-04T12:06:43.373865Z"
    }
   },
   "cell_type": "code",
   "source": "## Inference 2",
   "id": "7c8abd6bf9082a0",
   "outputs": [],
   "execution_count": 25
  },
  {
   "metadata": {
    "ExecuteTime": {
     "end_time": "2025-10-04T12:12:57.921498Z",
     "start_time": "2025-10-04T12:12:57.907875Z"
    }
   },
   "cell_type": "code",
   "source": "data_routes = pd.read_excel(\"results/generated_routes/test_result_routes_generated.xlsx\")",
   "id": "f1a985b02e0ad050",
   "outputs": [],
   "execution_count": 28
  },
  {
   "metadata": {
    "ExecuteTime": {
     "end_time": "2025-10-04T12:13:02.095876Z",
     "start_time": "2025-10-04T12:13:02.085139Z"
    }
   },
   "cell_type": "code",
   "source": "data_routes.head()",
   "id": "d0e43c4299542576",
   "outputs": [
    {
     "data": {
      "text/plain": [
       "   Route_Rank    Source Destination  Predicted Distance (km)  \\\n",
       "0           1    Madrid      Zurich                  1902.85   \n",
       "1           2    Madrid      Zurich                  1902.85   \n",
       "2           3    Madrid      Zurich                  1902.85   \n",
       "3           1  Brussels      Warsaw                  1419.82   \n",
       "4           2  Brussels      Warsaw                  1419.82   \n",
       "\n",
       "   Predicted Emission (kg CO₂)  Real Distance (km)  Real Emission (kg CO₂)  \\\n",
       "0                       106.97                1543                   52.27   \n",
       "1                       106.97                1585                   77.75   \n",
       "2                       106.97                1640                   82.00   \n",
       "3                        88.55                1359                   67.95   \n",
       "4                        88.55                1360                   68.00   \n",
       "\n",
       "   Distance Valid  Emission Valid Overall Status  \\\n",
       "0            True            True          valid   \n",
       "1            True            True          valid   \n",
       "2            True            True          valid   \n",
       "3            True            True          valid   \n",
       "4            True            True          valid   \n",
       "\n",
       "                                       Route Summary  \n",
       "0  Madrid→Barcelona (Cargo Train, 621 km, 31.05 k...  \n",
       "1  Madrid→Lyon (Cargo Train, 1035 km, 51.75 kg) |...  \n",
       "2  Madrid→Barcelona (Cargo Train, 620 km, 31.0 kg...  \n",
       "3  Brussels→Cologne (Cargo Train, 211 km, 10.55 k...  \n",
       "4  Brussels→Cologne (Cargo Train, 213 km, 10.65 k...  "
      ],
      "text/html": [
       "<div>\n",
       "<style scoped>\n",
       "    .dataframe tbody tr th:only-of-type {\n",
       "        vertical-align: middle;\n",
       "    }\n",
       "\n",
       "    .dataframe tbody tr th {\n",
       "        vertical-align: top;\n",
       "    }\n",
       "\n",
       "    .dataframe thead th {\n",
       "        text-align: right;\n",
       "    }\n",
       "</style>\n",
       "<table border=\"1\" class=\"dataframe\">\n",
       "  <thead>\n",
       "    <tr style=\"text-align: right;\">\n",
       "      <th></th>\n",
       "      <th>Route_Rank</th>\n",
       "      <th>Source</th>\n",
       "      <th>Destination</th>\n",
       "      <th>Predicted Distance (km)</th>\n",
       "      <th>Predicted Emission (kg CO₂)</th>\n",
       "      <th>Real Distance (km)</th>\n",
       "      <th>Real Emission (kg CO₂)</th>\n",
       "      <th>Distance Valid</th>\n",
       "      <th>Emission Valid</th>\n",
       "      <th>Overall Status</th>\n",
       "      <th>Route Summary</th>\n",
       "    </tr>\n",
       "  </thead>\n",
       "  <tbody>\n",
       "    <tr>\n",
       "      <th>0</th>\n",
       "      <td>1</td>\n",
       "      <td>Madrid</td>\n",
       "      <td>Zurich</td>\n",
       "      <td>1902.85</td>\n",
       "      <td>106.97</td>\n",
       "      <td>1543</td>\n",
       "      <td>52.27</td>\n",
       "      <td>True</td>\n",
       "      <td>True</td>\n",
       "      <td>valid</td>\n",
       "      <td>Madrid→Barcelona (Cargo Train, 621 km, 31.05 k...</td>\n",
       "    </tr>\n",
       "    <tr>\n",
       "      <th>1</th>\n",
       "      <td>2</td>\n",
       "      <td>Madrid</td>\n",
       "      <td>Zurich</td>\n",
       "      <td>1902.85</td>\n",
       "      <td>106.97</td>\n",
       "      <td>1585</td>\n",
       "      <td>77.75</td>\n",
       "      <td>True</td>\n",
       "      <td>True</td>\n",
       "      <td>valid</td>\n",
       "      <td>Madrid→Lyon (Cargo Train, 1035 km, 51.75 kg) |...</td>\n",
       "    </tr>\n",
       "    <tr>\n",
       "      <th>2</th>\n",
       "      <td>3</td>\n",
       "      <td>Madrid</td>\n",
       "      <td>Zurich</td>\n",
       "      <td>1902.85</td>\n",
       "      <td>106.97</td>\n",
       "      <td>1640</td>\n",
       "      <td>82.00</td>\n",
       "      <td>True</td>\n",
       "      <td>True</td>\n",
       "      <td>valid</td>\n",
       "      <td>Madrid→Barcelona (Cargo Train, 620 km, 31.0 kg...</td>\n",
       "    </tr>\n",
       "    <tr>\n",
       "      <th>3</th>\n",
       "      <td>1</td>\n",
       "      <td>Brussels</td>\n",
       "      <td>Warsaw</td>\n",
       "      <td>1419.82</td>\n",
       "      <td>88.55</td>\n",
       "      <td>1359</td>\n",
       "      <td>67.95</td>\n",
       "      <td>True</td>\n",
       "      <td>True</td>\n",
       "      <td>valid</td>\n",
       "      <td>Brussels→Cologne (Cargo Train, 211 km, 10.55 k...</td>\n",
       "    </tr>\n",
       "    <tr>\n",
       "      <th>4</th>\n",
       "      <td>2</td>\n",
       "      <td>Brussels</td>\n",
       "      <td>Warsaw</td>\n",
       "      <td>1419.82</td>\n",
       "      <td>88.55</td>\n",
       "      <td>1360</td>\n",
       "      <td>68.00</td>\n",
       "      <td>True</td>\n",
       "      <td>True</td>\n",
       "      <td>valid</td>\n",
       "      <td>Brussels→Cologne (Cargo Train, 213 km, 10.65 k...</td>\n",
       "    </tr>\n",
       "  </tbody>\n",
       "</table>\n",
       "</div>"
      ]
     },
     "execution_count": 29,
     "metadata": {},
     "output_type": "execute_result"
    }
   ],
   "execution_count": 29
  },
  {
   "metadata": {
    "ExecuteTime": {
     "end_time": "2025-10-04T12:17:43.198153Z",
     "start_time": "2025-10-04T12:17:43.188595Z"
    }
   },
   "cell_type": "code",
   "source": [
    "# Count valid vs invalid\n",
    "validity_counts = data_routes['Overall Status'].value_counts()\n",
    "\n",
    "# Build comparison table\n",
    "validity_table = pd.DataFrame({\n",
    "    \"Count\": validity_counts,\n",
    "    \"Percentage\": (validity_counts / len(data_routes) * 100).round(1)\n",
    "})\n",
    "\n",
    "print(validity_table)"
   ],
   "id": "479e916b3543966c",
   "outputs": [
    {
     "name": "stdout",
     "output_type": "stream",
     "text": [
      "                Count  Percentage\n",
      "Overall Status                   \n",
      "valid              29        69.0\n",
      "invalid            13        31.0\n"
     ]
    }
   ],
   "execution_count": 32
  },
  {
   "metadata": {
    "ExecuteTime": {
     "end_time": "2025-10-04T13:18:58.610386Z",
     "start_time": "2025-10-04T13:18:58.598903Z"
    }
   },
   "cell_type": "code",
   "source": [
    "# Filter only rank 1 routes\n",
    "rank1_routes = data_routes[data_routes['Route_Rank'] == 1]\n",
    "\n",
    "# Count valid vs invalid among rank 1\n",
    "rank1_validity = rank1_routes['Overall Status'].value_counts()\n",
    "\n",
    "# Build summary table\n",
    "rank1_summary = pd.DataFrame({\n",
    "    \"Count\": rank1_validity,\n",
    "    \"Percentage\": (rank1_validity / len(rank1_routes) * 100).round(1)\n",
    "})\n",
    "\n",
    "print(\"Rank 1 Routes between source & destination (validity check):\")\n",
    "print(rank1_summary)\n",
    "\n",
    "# Also show the full table of all rank 1 routes with their status\n",
    "print(\"\\nAll Rank 1 routes with validity:\")\n",
    "print(rank1_routes[['Source','Destination','Predicted Distance (km)','Real Distance (km)',\n",
    "                    'Predicted Emission (kg CO₂)','Real Emission (kg CO₂)','Overall Status']])\n"
   ],
   "id": "13c79a1fb0828d03",
   "outputs": [
    {
     "name": "stdout",
     "output_type": "stream",
     "text": [
      "Rank 1 Routes between source & destination (validity check):\n",
      "                Count  Percentage\n",
      "Overall Status                   \n",
      "valid              12        85.7\n",
      "invalid             2        14.3\n",
      "\n",
      "All Rank 1 routes with validity:\n",
      "           Source   Destination  Predicted Distance (km)  Real Distance (km)  \\\n",
      "0          Madrid        Zurich                  1902.85                1543   \n",
      "3        Brussels        Warsaw                  1419.82                1359   \n",
      "6   Saint Charles   Los Angeles                  2512.48                2512   \n",
      "9          Madrid      Istanbul                  2420.39                2420   \n",
      "12         Lisbon        London                  1446.70                2043   \n",
      "15          Milan     Barcelona                  1446.70                 890   \n",
      "18         Caguas  Villahermosa                  1256.61                1230   \n",
      "21         Madrid      Istanbul                  2420.39                2420   \n",
      "24     Copenhagen     Stockholm                   521.53                 520   \n",
      "27          Paris        Berlin                   704.82                 704   \n",
      "30         London     Amsterdam                   507.09                 507   \n",
      "33          Miami   Los Angeles                  4239.16                4239   \n",
      "36       New York        London                  3949.14                5748   \n",
      "39       Brussels         Milan                   556.09                 556   \n",
      "\n",
      "    Predicted Emission (kg CO₂)  Real Emission (kg CO₂) Overall Status  \n",
      "0                        106.97                  52.270          valid  \n",
      "3                         88.55                  67.950          valid  \n",
      "6                        433.89                  44.480          valid  \n",
      "9                        486.64                  63.000          valid  \n",
      "12                       322.49                  87.670        invalid  \n",
      "15                       322.49                  14.900          valid  \n",
      "18                       263.29                  23.200          valid  \n",
      "21                       486.64                  72.200          valid  \n",
      "24                       155.17                  26.000          valid  \n",
      "27                       216.61                  32.940          valid  \n",
      "30                       164.28                  10.910          valid  \n",
      "33                        15.41                 103.196        invalid  \n",
      "36                       585.54                  62.600          valid  \n",
      "39                       195.54                  27.800          valid  \n"
     ]
    }
   ],
   "execution_count": 39
  },
  {
   "metadata": {
    "ExecuteTime": {
     "end_time": "2025-10-04T13:16:35.025669Z",
     "start_time": "2025-10-04T13:16:35.014716Z"
    }
   },
   "cell_type": "code",
   "source": [
    "print(\"Rank 1 Routes between source & destination (validity check):\")\n",
    "rank1_summary.to_excel(\"results/generated_routes/rank1_summary.xlsx\", index=False)\n"
   ],
   "id": "d4fc77e88e53d3fc",
   "outputs": [
    {
     "name": "stdout",
     "output_type": "stream",
     "text": [
      "Rank 1 Routes between source & destination (validity check):\n"
     ]
    }
   ],
   "execution_count": 37
  },
  {
   "metadata": {
    "ExecuteTime": {
     "end_time": "2025-10-04T13:17:29.656581Z",
     "start_time": "2025-10-04T13:17:29.639528Z"
    }
   },
   "cell_type": "code",
   "source": [
    "rnk1 = rank1_routes[['Source','Destination','Predicted Distance (km)','Real Distance (km)',\n",
    "                    'Predicted Emission (kg CO₂)','Real Emission (kg CO₂)','Overall Status']]\n",
    "rnk1.to_excel(\"results/generated_routes/rnk1.xlsx\", index=False)"
   ],
   "id": "fc33c04b697c8c5c",
   "outputs": [],
   "execution_count": 38
  },
  {
   "metadata": {
    "ExecuteTime": {
     "end_time": "2025-10-04T14:07:56.942228Z",
     "start_time": "2025-10-04T14:07:56.633922Z"
    }
   },
   "cell_type": "code",
   "source": [
    "# 1. Filter Rank 1 valid routes from the new dataset\n",
    "rank1_valid_routes = data_routes[(data_routes['Route_Rank'] == 1) & (data_routes['Overall Status'] == 'valid')]\n",
    "real_emission_rank1 = rank1_valid_routes['Real Emission (kg CO₂)']\n",
    "\n",
    "# 2. Load the previous original dataset (with 'emission' column)\n",
    "\n",
    "# Ensure comparable types (string trim/normalize if needed)\n",
    "rank1_valid_routes['Source'] = rank1_valid_routes['Source'].str.strip()\n",
    "rank1_valid_routes['Destination'] = rank1_valid_routes['Destination'].str.strip()\n",
    "data['source'] = data['source'].str.strip()\n",
    "data['destination'] = data['destination'].str.strip()\n",
    "\n",
    "# 3. Match routes by Source & Destination\n",
    "merged = pd.merge(\n",
    "    rank1_valid_routes,\n",
    "    data,\n",
    "    left_on=['Source','Destination'],\n",
    "    right_on=['source','destination'],\n",
    "    how='inner'\n",
    ")\n",
    "\n",
    "\n",
    "# 3. Combine into one dataframe for plotting\n",
    "real_emission_rank1 = merged['Real Emission (kg CO₂)']\n",
    "original_emission_matched = pd.to_numeric(merged['emission'], errors='coerce')\n",
    "\n",
    "# 5. Plot histogram overlay\n",
    "plt.figure(figsize=(8,6))\n",
    "sns.histplot(original_emission_matched, bins=20, color=\"skyblue\", label=\"Original Data\", kde=True, alpha=0.5)\n",
    "sns.histplot(real_emission_rank1, bins=20, color=\"green\", label=\"Rank 1 Valid Routes\", kde=True, alpha=0.5)\n",
    "\n",
    "plt.title(\"Matched Emission Distribution: Rank 1 Valid Routes vs Original Data\", fontsize=14, weight=\"bold\")\n",
    "plt.xlabel(\"Emission (kg CO2)\")\n",
    "plt.ylabel(\"Frequency\")\n",
    "plt.legend()\n",
    "plt.tight_layout()\n",
    "plt.savefig(\"inference3.png\", dpi=300)\n",
    "plt.show()\n",
    "\n"
   ],
   "id": "f4a3617a8b6f4cf2",
   "outputs": [
    {
     "name": "stderr",
     "output_type": "stream",
     "text": [
      "/var/folders/s8/4scm1fp51jxb452fhj6kc_bc0000gn/T/ipykernel_76113/3552140135.py:8: SettingWithCopyWarning:\n",
      "\n",
      "\n",
      "A value is trying to be set on a copy of a slice from a DataFrame.\n",
      "Try using .loc[row_indexer,col_indexer] = value instead\n",
      "\n",
      "See the caveats in the documentation: https://pandas.pydata.org/pandas-docs/stable/user_guide/indexing.html#returning-a-view-versus-a-copy\n",
      "\n",
      "/var/folders/s8/4scm1fp51jxb452fhj6kc_bc0000gn/T/ipykernel_76113/3552140135.py:9: SettingWithCopyWarning:\n",
      "\n",
      "\n",
      "A value is trying to be set on a copy of a slice from a DataFrame.\n",
      "Try using .loc[row_indexer,col_indexer] = value instead\n",
      "\n",
      "See the caveats in the documentation: https://pandas.pydata.org/pandas-docs/stable/user_guide/indexing.html#returning-a-view-versus-a-copy\n",
      "\n"
     ]
    },
    {
     "data": {
      "text/plain": [
       "<Figure size 800x600 with 1 Axes>"
      ],
      "image/png": "[encoded data removed]"
     },
     "metadata": {},
     "output_type": "display_data"
    }
   ],
   "execution_count": 51
  },
  {
   "metadata": {
    "ExecuteTime": {
     "end_time": "2025-10-04T14:06:33.790448Z",
     "start_time": "2025-10-04T14:06:33.785924Z"
    }
   },
   "cell_type": "code",
   "source": [
    "# 6. Calculate averages + % reduction\n",
    "avg_rank1 = real_emission_rank1.mean()\n",
    "avg_original = original_emission_matched.mean()\n",
    "pct_reduction = ((avg_original - avg_rank1) / avg_original) * 100\n",
    "\n",
    "print(\"Average Emission (Rank 1 Valid Routes):\", round(avg_rank1,2))\n",
    "print(\"Average Emission (Original Data, matched):\", round(avg_original,2))\n",
    "print(\"Percentage Reduction:\", round(pct_reduction,1), \"%\")"
   ],
   "id": "3e175b873775d7d8",
   "outputs": [
    {
     "name": "stdout",
     "output_type": "stream",
     "text": [
      "Average Emission (Rank 1 Valid Routes): 41.52\n",
      "Average Emission (Original Data, matched): 1246.22\n",
      "Percentage Reduction: 96.7 %\n"
     ]
    }
   ],
   "execution_count": 50
  }
 ],
 "metadata": {
  "kernelspec": {
   "display_name": "Python 3",
   "language": "python",
   "name": "python3"
  },
  "language_info": {
   "codemirror_mode": {
    "name": "ipython",
    "version": 2
   },
   "file_extension": ".py",
   "mimetype": "text/x-python",
   "name": "python",
   "nbconvert_exporter": "python",
   "pygments_lexer": "ipython2",
   "version": "2.7.6"
  }
 },
 "nbformat": 4,
 "nbformat_minor": 5
}
