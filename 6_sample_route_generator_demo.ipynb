{
 "cells": [
  {
   "cell_type": "code",
   "id": "initial_id",
   "metadata": {
    "collapsed": true,
    "ExecuteTime": {
     "end_time": "2025-09-17T14:07:05.567353Z",
     "start_time": "2025-09-17T14:07:05.300416Z"
    }
   },
   "source": [
    "import os\n",
    "from openai import OpenAI\n",
    "from dotenv import load_dotenv"
   ],
   "outputs": [],
   "execution_count": 3
  },
  {
   "metadata": {
    "ExecuteTime": {
     "end_time": "2025-09-17T14:07:07.306777Z",
     "start_time": "2025-09-17T14:07:07.284386Z"
    }
   },
   "cell_type": "code",
   "source": [
    "# Load .env for API keys, etc.\n",
    "load_dotenv()\n",
    "client = OpenAI()"
   ],
   "id": "d061913cffa4fd33",
   "outputs": [],
   "execution_count": 4
  },
  {
   "metadata": {
    "ExecuteTime": {
     "end_time": "2025-09-17T15:14:34.439341Z",
     "start_time": "2025-09-17T15:14:34.436689Z"
    }
   },
   "cell_type": "code",
   "source": [
    "def get_enriched_prompt(predicted_info, max_distance, max_emission, max_emission_grams, predicted_mode):\n",
    "    template = f\"\"\"\n",
    "You are a sustainability logistics planner. Based on the predicted route information below, generate a full multi-segment route that:\n",
    "\n",
    "- Stays within a total distance of {max_distance} km.\n",
    "- Stays under a total CO₂ emission of {max_emission} kg (i.e., {max_emission_grams} grams).\n",
    "- Primarily uses the predicted mode: {predicted_mode}, but you may use other modes to optimize for emissions or realism.\n",
    "- Choose realistic transport paths (city-to-city freight rail, ports, road access).\n",
    "- Prefer sustainable alternatives: Cargo Train, Container Ship, Electric Van.\n",
    "- Limit to maximum 3 hopes\n",
    "\n",
    "Emission rates:\n",
    "- Air Freight: 600 g/km\n",
    "- Container Ship: 10 g/km\n",
    "- Cargo Train: 50 g/km\n",
    "- Heavy Truck: 500 g/km\n",
    "- Medium Truck: 300 g/km\n",
    "- Small Van: 180 g/km\n",
    "- Electric Van: 40 g/km\n",
    "\n",
    "Each segment must include: `from`, `to`, `country`, `mode`, `vehicle`, `distance_km`, `emission_g`\n",
    "\n",
    "Output JSON:\n",
    "{{\n",
    "  \"route\": [{{...}}],\n",
    "  \"total_distance_km\": int,\n",
    "  \"total_emission_g\": int\n",
    "}}\n",
    "\n",
    "### Predicted Info:\n",
    "{predicted_info}\n",
    "\"\"\"\n",
    "    return template"
   ],
   "id": "b1c8bf325de4c4f3",
   "outputs": [],
   "execution_count": 33
  },
  {
   "metadata": {
    "ExecuteTime": {
     "end_time": "2025-09-17T14:20:58.867916Z",
     "start_time": "2025-09-17T14:20:58.864288Z"
    }
   },
   "cell_type": "code",
   "source": [
    "from pydantic import BaseModel\n",
    "\n",
    "class Route(BaseModel):\n",
    "    start_from: str\n",
    "    to: str\n",
    "    country: str\n",
    "    mode: str\n",
    "    vehicle: str\n",
    "    distance_km: int\n",
    "    emission_g: int\n",
    "\n",
    "class Routes(BaseModel):\n",
    "    routes: list[Route]\n"
   ],
   "id": "4e5d18b7dc4ce3b2",
   "outputs": [],
   "execution_count": 13
  },
  {
   "metadata": {
    "ExecuteTime": {
     "end_time": "2025-09-17T15:14:40.709809Z",
     "start_time": "2025-09-17T15:14:40.705278Z"
    }
   },
   "cell_type": "code",
   "source": [
    "import json\n",
    "def generate_route(predicted_info, model=\"gpt-4o\", temperature=0.7, n=3):\n",
    "    routes = []\n",
    "    # predicted_info=json.dumps(predicted_info, indent=2)\n",
    "    max_distance=predicted_info[\"distance\"]\n",
    "    max_emission=predicted_info[\"emission\"]\n",
    "    max_emission_grams=int(float(predicted_info[\"emission\"]) * 1000)\n",
    "    predicted_mode=predicted_info[\"transportation_mode\"]\n",
    "    enriched_prompt = get_enriched_prompt(predicted_info, max_distance, max_emission, max_emission_grams, predicted_mode)\n",
    "    for _ in range(n):\n",
    "        response = client.chat.completions.parse(\n",
    "            model=model,\n",
    "            messages=[\n",
    "                {\"role\": \"system\", \"content\": \"You are a helpful sustainability logistics planner.\"},\n",
    "                {\"role\": \"user\", \"content\": enriched_prompt}\n",
    "            ],\n",
    "            response_format=Routes,\n",
    "            temperature=temperature,\n",
    "        )\n",
    "        try:\n",
    "            #route_data = json.loads(response)\n",
    "            result = response.choices[0].message.content\n",
    "            routes.append(result)\n",
    "        except Exception as e:\n",
    "            print(f\"⚠️ Failed to parse JSON: {e}\")\n",
    "    return routes\n"
   ],
   "id": "8344a3206c3253c2",
   "outputs": [],
   "execution_count": 34
  },
  {
   "metadata": {
    "ExecuteTime": {
     "end_time": "2025-09-17T15:15:00.191120Z",
     "start_time": "2025-09-17T15:14:44.569073Z"
    }
   },
   "cell_type": "code",
   "source": [
    "predicted_info = {\n",
    "    'source': 'Madrid',\n",
    "    'source_country': 'Spain',\n",
    "    'destination': 'Istanbul',\n",
    "    'destination_country': 'Turkey',\n",
    "    'transportation_mode': 'Cargo Train',\n",
    "    'distance': 2855,\n",
    "    'emission': 296\n",
    "}\n",
    "\n",
    "candidate_routes = generate_route(predicted_info, n=3)"
   ],
   "id": "a396eb718eecd8fe",
   "outputs": [],
   "execution_count": 35
  },
  {
   "metadata": {},
   "cell_type": "code",
   "outputs": [],
   "execution_count": null,
   "source": [
    "def validate_route(route, max_distance_km, max_emission_g):\n",
    "    total_distance = route[\"total_distance_km\"]\n",
    "    total_emission = route[\"total_emission_g\"]\n",
    "\n",
    "    return {\n",
    "        \"distance_valid\": total_distance <= max_distance_km,\n",
    "        \"emission_valid\": total_emission <= max_emission_g,\n",
    "        \"status\": \"valid\" if total_distance <= max_distance_km and total_emission <= max_emission_g else \"invalid\"\n",
    "    }\n"
   ],
   "id": "3ce0cb8bd9b95264"
  },
  {
   "metadata": {
    "ExecuteTime": {
     "end_time": "2025-09-17T15:15:09.135639Z",
     "start_time": "2025-09-17T15:15:09.129223Z"
    }
   },
   "cell_type": "code",
   "source": [
    "import json\n",
    "\n",
    "raw_outputs = candidate_routes\n",
    "# Parse and enrich with total distance/emission\n",
    "parsed_routes = []\n",
    "for raw in raw_outputs:\n",
    "    data = json.loads(raw)\n",
    "    segments = data[\"routes\"]\n",
    "    total_distance = sum(seg[\"distance_km\"] for seg in segments)\n",
    "    total_emission = sum(seg[\"emission_g\"] for seg in segments)\n",
    "    parsed_routes.append({\n",
    "        \"route\": segments,\n",
    "        \"total_distance_km\": total_distance,\n",
    "        \"total_emission_g\": total_emission\n",
    "    })\n",
    "\n",
    "# Rank by emission\n",
    "top_routes = sorted(parsed_routes, key=lambda r: r[\"total_emission_g\"])[:3]\n",
    "\n",
    "# Print results\n",
    "print(f\"\\n Source: {predicted_info['source']} \")\n",
    "print(f\"Destination: {predicted_info['destination']} \")\n",
    "print(f\"\\n📦 Predicted Max Distance: {predicted_info['distance']} km\")\n",
    "print(f\"♻️  Predicted Max Emission: {predicted_info['emission']} kg CO₂\")\n",
    "\n",
    "print(\"\\nTop 3 generated routes that meet the predicted maximum distance and emission constraints.\\n\")\n",
    "\n",
    "for i, route in enumerate(top_routes, 1):\n",
    "    print(f\"🚛 Top Route {i}:\")\n",
    "    print(f\"Total Distance: {route['total_distance_km']} km\")\n",
    "    print(f\"Total Emission: {route['total_emission_g']/1000} kg CO₂\")\n",
    "    print(\"Segments:\")\n",
    "    for seg in route[\"route\"]:\n",
    "        print(f\"  {seg['start_from']} → {seg['to']} | {seg['mode']} | {seg['distance_km']} km | {seg['emission_g']/1000} kg\")\n"
   ],
   "id": "4e5a69ff82c9d207",
   "outputs": [
    {
     "name": "stdout",
     "output_type": "stream",
     "text": [
      "\n",
      " Source: Madrid \n",
      "Destination: Istanbul \n",
      "\n",
      "📦 Predicted Max Distance: 2855 km\n",
      "♻️  Predicted Max Emission: 296 kg CO₂\n",
      "\n",
      "Top 3 generated routes that meet the predicted maximum distance and emission constraints.\n",
      "\n",
      "🚛 Top Route 1:\n",
      "Total Distance: 2825 km\n",
      "Total Emission: 101.97 kg CO₂\n",
      "Segments:\n",
      "  Madrid → Barcelona | Cargo Train | 621 km | 31.05 kg\n",
      "  Barcelona → Genoa | Container Ship | 982 km | 9.82 kg\n",
      "  Genoa → Istanbul | Cargo Train | 1222 km | 61.1 kg\n",
      "🚛 Top Route 2:\n",
      "Total Distance: 2820 km\n",
      "Total Emission: 105.0 kg CO₂\n",
      "Segments:\n",
      "  Madrid → Barcelona | Rail | 620 km | 31.0 kg\n",
      "  Barcelona → Genoa | Sea | 900 km | 9.0 kg\n",
      "  Genoa → Istanbul | Rail | 1300 km | 65.0 kg\n",
      "🚛 Top Route 3:\n",
      "Total Distance: 2855 km\n",
      "Total Emission: 112.75 kg CO₂\n",
      "Segments:\n",
      "  Madrid → Barcelona | Cargo Train | 620 km | 31.0 kg\n",
      "  Barcelona → Genoa | Container Ship | 750 km | 7.5 kg\n",
      "  Genoa → Istanbul | Cargo Train | 1485 km | 74.25 kg\n"
     ]
    }
   ],
   "execution_count": 36
  },
  {
   "metadata": {},
   "cell_type": "code",
   "outputs": [],
   "execution_count": null,
   "source": [
    "predicted_max_distance_km = int(predicted_info[\"distance\"])\n",
    "predicted_max_emission_g = int(float(predicted_info[\"emission\"]) * 1000)\n",
    "\n",
    "for i, route in enumerate(top_routes, 1):\n",
    "    result = validate_route(route, predicted_max_distance_km, predicted_max_emission_g)\n",
    "\n",
    "    print(f\"\\n🚛 Route {i}:\")\n",
    "    print(f\"  Total Distance: {route['total_distance_km']} km\")\n",
    "    print(f\"  Total Emission: {route['total_emission_g']} g CO₂\")\n",
    "    print(f\"  ✅ Distance Valid: {result['distance_valid']}\")\n",
    "    print(f\"  ✅ Emission Valid: {result['emission_valid']}\")\n",
    "    print(f\"  🧾 Overall Status: {result['status']}\")\n",
    "\n",
    "    for seg in route[\"route\"]:\n",
    "        print(f\"    - {seg['start_from']} → {seg['to']} | {seg['mode']} | {seg['distance_km']} km | {seg['emission_g']} g\")\n"
   ],
   "id": "a54d5807b9ce0824"
  }
 ],
 "metadata": {
  "kernelspec": {
   "display_name": "Python 3",
   "language": "python",
   "name": "python3"
  },
  "language_info": {
   "codemirror_mode": {
    "name": "ipython",
    "version": 2
   },
   "file_extension": ".py",
   "mimetype": "text/x-python",
   "name": "python",
   "nbconvert_exporter": "python",
   "pygments_lexer": "ipython2",
   "version": "2.7.6"
  }
 },
 "nbformat": 4,
 "nbformat_minor": 5
}
